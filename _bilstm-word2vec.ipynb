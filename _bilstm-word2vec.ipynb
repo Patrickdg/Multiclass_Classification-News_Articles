{
 "cells": [
  {
   "cell_type": "markdown",
   "metadata": {},
   "source": [
    "# Bi-LSTM (GloVe Embeddings)"
   ]
  },
  {
   "cell_type": "markdown",
   "metadata": {},
   "source": [
    "### Libraries"
   ]
  },
  {
   "cell_type": "code",
   "execution_count": 1,
   "metadata": {},
   "outputs": [],
   "source": [
    "import process_funcs as pf\n",
    "\n",
    "import os\n",
    "import pandas as pd\n",
    "import numpy as np\n",
    "import gensim"
   ]
  },
  {
   "cell_type": "markdown",
   "metadata": {},
   "source": [
    "### Parameters"
   ]
  },
  {
   "cell_type": "code",
   "execution_count": 2,
   "metadata": {},
   "outputs": [],
   "source": [
    "max_len = 500 # maximum length of input vectors\n",
    "max_words = 15000 # top n words in vocab "
   ]
  },
  {
   "cell_type": "markdown",
   "metadata": {},
   "source": [
    "### Reading Data"
   ]
  },
  {
   "cell_type": "code",
   "execution_count": 3,
   "metadata": {},
   "outputs": [],
   "source": [
    "train_x, test_x, train_y, test_y, label_map  = pf.get_train_test()"
   ]
  },
  {
   "cell_type": "code",
   "execution_count": 4,
   "metadata": {},
   "outputs": [
    {
     "data": {
      "text/plain": [
       "['mps',\n",
       " 'tout',\n",
       " 'lords',\n",
       " 'replacement',\n",
       " 'plan',\n",
       " 'group',\n",
       " 'mps',\n",
       " 'tried',\n",
       " 'raise',\n",
       " 'pressure',\n",
       " 'tony',\n",
       " 'blair',\n",
       " 'reform',\n",
       " 'house',\n",
       " 'lords',\n",
       " 'publishing',\n",
       " 'detailed',\n",
       " 'blueprint',\n",
       " 'change',\n",
       " 'cross',\n",
       " 'party',\n",
       " 'group',\n",
       " 'unveiled',\n",
       " 'draft',\n",
       " 'bill',\n",
       " 'proposing',\n",
       " 'smaller',\n",
       " 'second',\n",
       " 'chamber',\n",
       " '70',\n",
       " 'members',\n",
       " 'would',\n",
       " 'elected',\n",
       " 'mps',\n",
       " 'peers',\n",
       " 'failed',\n",
       " 'agree',\n",
       " 'reform',\n",
       " 'since',\n",
       " '1999',\n",
       " '600',\n",
       " 'hereditaries',\n",
       " 'lost',\n",
       " 'seats',\n",
       " 'group',\n",
       " 'says',\n",
       " 'win',\n",
       " 'support',\n",
       " 'removing',\n",
       " 'last',\n",
       " '92',\n",
       " 'hereditaries',\n",
       " 'government',\n",
       " 'postponed',\n",
       " 'plans',\n",
       " 'remove',\n",
       " 'remaining',\n",
       " 'hereditary',\n",
       " 'peers',\n",
       " 'said',\n",
       " 'unlikely',\n",
       " 'succeed',\n",
       " 'opposition',\n",
       " 'lords',\n",
       " 'tony',\n",
       " 'blair',\n",
       " 'argued',\n",
       " 'needs',\n",
       " 'consensus',\n",
       " 'reforms',\n",
       " 'suggestions',\n",
       " 'proposals',\n",
       " 'changing',\n",
       " 'least',\n",
       " 'powers',\n",
       " 'lords',\n",
       " 'labour',\n",
       " 'manifesto',\n",
       " 'party',\n",
       " 'group',\n",
       " 'including',\n",
       " 'tories',\n",
       " 'ken',\n",
       " 'clarke',\n",
       " 'sir',\n",
       " 'george',\n",
       " 'young',\n",
       " 'labour',\n",
       " 'robin',\n",
       " 'cook',\n",
       " 'tony',\n",
       " 'wright',\n",
       " 'liberal',\n",
       " 'democrat',\n",
       " 'paul',\n",
       " 'tyler',\n",
       " 'confident',\n",
       " 'plan',\n",
       " 'would',\n",
       " 'win',\n",
       " 'support',\n",
       " 'large',\n",
       " 'majority',\n",
       " 'list',\n",
       " 'former',\n",
       " 'conservative',\n",
       " 'leader',\n",
       " 'william',\n",
       " 'hague',\n",
       " 'former',\n",
       " 'labour',\n",
       " 'leader',\n",
       " 'neil',\n",
       " 'kinnock',\n",
       " 'supporters',\n",
       " 'plans',\n",
       " 'group',\n",
       " 'says',\n",
       " 'british',\n",
       " 'public',\n",
       " 'clear',\n",
       " 'majority',\n",
       " 'mps',\n",
       " 'support',\n",
       " 'replacing',\n",
       " 'lords',\n",
       " 'largely',\n",
       " 'elected',\n",
       " 'second',\n",
       " 'chamber',\n",
       " 'plan',\n",
       " 'would',\n",
       " 'see',\n",
       " 'house',\n",
       " 'lords',\n",
       " 'renamed',\n",
       " 'second',\n",
       " 'chamber',\n",
       " 'parliament',\n",
       " 'members',\n",
       " 'would',\n",
       " 'known',\n",
       " 'mscps',\n",
       " 'would',\n",
       " '385',\n",
       " 'mscps',\n",
       " 'including',\n",
       " '270',\n",
       " 'elected',\n",
       " 'members',\n",
       " '87',\n",
       " 'appointed',\n",
       " 'members',\n",
       " '16',\n",
       " 'bishops',\n",
       " 'would',\n",
       " 'serve',\n",
       " '12',\n",
       " '14',\n",
       " 'years',\n",
       " 'mr',\n",
       " 'cook',\n",
       " 'said',\n",
       " 'holding',\n",
       " 'elections',\n",
       " 'mscps',\n",
       " 'day',\n",
       " 'mps',\n",
       " 'might',\n",
       " 'help',\n",
       " 'motivate',\n",
       " 'electorate',\n",
       " 'increase',\n",
       " 'voter',\n",
       " 'turnout',\n",
       " 'added',\n",
       " 'last',\n",
       " 'year',\n",
       " 'seen',\n",
       " 'many',\n",
       " 'statements',\n",
       " 'senior',\n",
       " 'figures',\n",
       " 'government',\n",
       " 'insisting',\n",
       " 'public',\n",
       " 'must',\n",
       " 'right',\n",
       " 'choice',\n",
       " 'could',\n",
       " 'important',\n",
       " 'choice',\n",
       " 'people',\n",
       " 'sit',\n",
       " 'parliament',\n",
       " 'group',\n",
       " 'believes',\n",
       " 'pressure',\n",
       " 'growing',\n",
       " 'change']"
      ]
     },
     "execution_count": 4,
     "metadata": {},
     "output_type": "execute_result"
    }
   ],
   "source": [
    "#Sample instance\n",
    "train_x[0][0:200]"
   ]
  },
  {
   "cell_type": "markdown",
   "metadata": {},
   "source": [
    "### Data Processing"
   ]
  },
  {
   "cell_type": "code",
   "execution_count": 5,
   "metadata": {},
   "outputs": [
    {
     "data": {
      "text/plain": [
       "[('said', 1), ('mr', 2), ('would', 3), ('year', 4), ('also', 5)]"
      ]
     },
     "execution_count": 5,
     "metadata": {},
     "output_type": "execute_result"
    }
   ],
   "source": [
    "train_x, tokenizer = pf.lstm_build_sequences(train_x, max_words, max_len)\n",
    "test_x, tokenizer = pf.lstm_build_sequences(test_x, max_words, max_len, tokenizer=tokenizer)\n",
    "word_index = tokenizer.word_index\n",
    "\n",
    "list(word_index.items())[:5]"
   ]
  },
  {
   "cell_type": "markdown",
   "metadata": {},
   "source": [
    "### Embeddings: Word2Vec"
   ]
  },
  {
   "cell_type": "code",
   "execution_count": 6,
   "metadata": {},
   "outputs": [
    {
     "data": {
      "text/plain": [
       "array([-1.42578125e-01, -3.68652344e-02,  1.35742188e-01, -6.20117188e-02,\n",
       "        7.95898438e-02,  1.90429688e-02, -8.15429688e-02, -1.27929688e-01,\n",
       "       -2.95410156e-02,  2.36328125e-01, -1.21582031e-01, -2.14843750e-01,\n",
       "        1.29882812e-01, -2.70996094e-02, -5.20019531e-02,  2.15820312e-01,\n",
       "       -1.81640625e-01,  5.10253906e-02, -1.60156250e-01, -1.76757812e-01,\n",
       "        1.83105469e-02, -4.12597656e-02, -2.32421875e-01, -1.03149414e-02,\n",
       "        1.45507812e-01,  5.24902344e-02, -3.96484375e-01, -1.92871094e-02,\n",
       "        2.51770020e-03, -1.26953125e-02, -4.39453125e-02,  3.07617188e-02,\n",
       "        9.57031250e-02, -1.75781250e-01,  1.04370117e-02,  1.89453125e-01,\n",
       "       -2.36328125e-01,  4.37011719e-02,  2.81250000e-01, -2.07519531e-02,\n",
       "       -1.81640625e-01, -2.17773438e-01,  2.33398438e-01,  5.29785156e-02,\n",
       "       -1.13769531e-01,  9.39941406e-03, -1.49414062e-01,  1.99218750e-01,\n",
       "       -1.75781250e-01,  3.16406250e-01,  8.10546875e-02, -6.12792969e-02,\n",
       "       -1.52343750e-01, -1.81884766e-02,  8.25195312e-02,  8.74023438e-02,\n",
       "       -1.18652344e-01, -2.59765625e-01, -1.68457031e-02,  1.87988281e-02,\n",
       "        1.36108398e-02, -2.39257812e-01, -6.78710938e-02, -8.15429688e-02,\n",
       "        2.18750000e-01,  6.64062500e-02,  1.27929688e-01,  1.64062500e-01,\n",
       "        2.28271484e-02, -1.38671875e-01, -9.42382812e-02,  3.51562500e-02,\n",
       "        7.37304688e-02, -1.06445312e-01,  1.47705078e-02, -6.15234375e-02,\n",
       "        2.48046875e-01,  9.22851562e-02,  1.45263672e-02,  2.92968750e-01,\n",
       "        2.47070312e-01, -3.46679688e-02, -1.92382812e-01,  2.28881836e-03,\n",
       "        1.33789062e-01,  5.05371094e-02, -1.56250000e-01,  2.02148438e-01,\n",
       "       -3.39355469e-02, -1.10351562e-01,  1.31835938e-02, -1.84570312e-01,\n",
       "        6.73828125e-02,  9.22851562e-02,  2.70996094e-02,  1.44653320e-02,\n",
       "        7.37304688e-02, -1.96289062e-01,  6.39648438e-02,  1.46484375e-01,\n",
       "        3.67187500e-01, -3.67187500e-01,  1.13281250e-01, -5.66406250e-02,\n",
       "        5.27343750e-02, -1.66015625e-01,  1.59179688e-01, -1.28906250e-01,\n",
       "        2.21679688e-01,  1.07910156e-01,  1.56250000e-01,  2.65625000e-01,\n",
       "       -1.50390625e-01,  6.83593750e-02,  2.08984375e-01, -1.70898438e-02,\n",
       "       -1.38671875e-01,  3.26171875e-01,  2.37304688e-01, -9.03320312e-02,\n",
       "        9.27734375e-03, -8.59375000e-02, -1.22558594e-01,  1.12792969e-01,\n",
       "        1.17187500e-01, -3.32031250e-02,  1.62109375e-01, -1.33789062e-01,\n",
       "        1.45507812e-01, -8.64257812e-02, -9.13085938e-02, -5.37109375e-02,\n",
       "       -7.91015625e-02, -8.48388672e-03, -1.78710938e-01, -8.66699219e-03,\n",
       "        4.12109375e-01,  8.34960938e-02, -2.67578125e-01,  4.02832031e-02,\n",
       "       -6.64062500e-02,  8.74023438e-02, -1.87500000e-01, -9.37500000e-02,\n",
       "       -8.98437500e-02,  6.49414062e-02,  1.74804688e-01, -1.85546875e-01,\n",
       "       -1.49414062e-01, -2.10937500e-01,  1.25976562e-01, -7.47070312e-02,\n",
       "       -1.94335938e-01, -1.91650391e-02, -1.89453125e-01, -1.84570312e-01,\n",
       "       -1.90429688e-01, -1.37695312e-01, -9.03320312e-02, -2.01416016e-02,\n",
       "        3.88183594e-02,  9.13085938e-02,  2.55859375e-01, -1.35742188e-01,\n",
       "        5.78613281e-02, -1.85546875e-01,  4.58984375e-01,  1.18164062e-01,\n",
       "        4.40597534e-04, -4.90722656e-02,  6.25000000e-02,  1.10839844e-01,\n",
       "       -1.93359375e-01, -2.59765625e-01,  1.83593750e-01,  1.99218750e-01,\n",
       "       -1.17187500e-01, -1.66992188e-01, -1.43554688e-01,  7.44628906e-03,\n",
       "       -1.25976562e-01,  5.00488281e-02, -7.22656250e-02, -1.06201172e-02,\n",
       "        2.11914062e-01,  9.91210938e-02, -1.88476562e-01, -4.95605469e-02,\n",
       "        8.83789062e-02, -1.50203705e-05, -1.26953125e-01,  3.04687500e-01,\n",
       "        2.49023438e-02,  4.24194336e-03,  6.64062500e-02, -3.26171875e-01,\n",
       "        4.60937500e-01, -1.50390625e-01, -1.48437500e-01, -2.95410156e-02,\n",
       "        3.10546875e-01,  1.72851562e-01, -1.46484375e-01,  6.93359375e-02,\n",
       "       -1.37695312e-01, -5.20019531e-02, -1.91406250e-01, -3.49121094e-02,\n",
       "        1.97265625e-01, -2.34375000e-01,  9.08203125e-02,  3.24218750e-01,\n",
       "       -4.70703125e-01,  1.70898438e-02, -2.35351562e-01, -8.05664062e-02,\n",
       "        3.14453125e-01,  2.20947266e-02, -1.42578125e-01, -2.79541016e-02,\n",
       "       -2.24609375e-01,  2.69775391e-02,  2.65625000e-01, -3.80859375e-02,\n",
       "        2.61230469e-02,  1.71875000e-01, -8.59375000e-02,  7.76367188e-02,\n",
       "       -2.51464844e-02,  8.78906250e-02,  1.00708008e-02,  1.62353516e-02,\n",
       "        3.18359375e-01, -1.09375000e-01,  2.85156250e-01,  1.00097656e-01,\n",
       "       -3.06396484e-02,  3.68652344e-02,  1.30859375e-01,  1.59179688e-01,\n",
       "       -1.11328125e-01,  4.45556641e-03, -3.44238281e-02, -7.71484375e-02,\n",
       "       -2.11181641e-02, -2.12890625e-01, -1.24023438e-01, -1.15356445e-02,\n",
       "        6.49414062e-02, -1.85546875e-02, -2.00195312e-01, -2.48046875e-01,\n",
       "        9.22851562e-02, -1.48437500e-01, -6.93359375e-02,  5.79833984e-03,\n",
       "       -3.41796875e-02,  1.44531250e-01, -9.37500000e-02,  1.26953125e-01,\n",
       "       -4.15039062e-02,  3.16406250e-01, -7.03125000e-02,  4.95605469e-02,\n",
       "        1.95312500e-01,  1.89208984e-02,  1.09863281e-02, -7.47070312e-02,\n",
       "       -1.28906250e-01, -1.29882812e-01,  1.03027344e-01,  8.00781250e-02,\n",
       "        6.25610352e-03,  1.40991211e-02, -1.43554688e-01,  1.36108398e-02,\n",
       "       -4.63867188e-02, -3.22265625e-01, -8.59375000e-02, -1.56250000e-01,\n",
       "        1.46484375e-01,  2.16796875e-01,  1.81640625e-01, -1.22070312e-01,\n",
       "       -2.30468750e-01, -1.92871094e-02, -1.26953125e-02,  1.09863281e-01,\n",
       "       -1.59179688e-01,  1.17675781e-01,  5.29785156e-02,  2.08984375e-01,\n",
       "       -1.37695312e-01,  1.62109375e-01, -1.72851562e-01,  3.63769531e-02,\n",
       "       -1.25976562e-01, -1.44653320e-02, -1.26953125e-01, -2.59765625e-01],\n",
       "      dtype=float32)"
      ]
     },
     "execution_count": 6,
     "metadata": {},
     "output_type": "execute_result"
    }
   ],
   "source": [
    "embeddings_index = pf.get_word2vec_embeddings()\n",
    "embeddings_index['test']"
   ]
  },
  {
   "cell_type": "code",
   "execution_count": 7,
   "metadata": {},
   "outputs": [],
   "source": [
    "embedding_dim, embedding_mat = pf.lstm_build_embed_mat(embeddings_index, word_index, max_words)"
   ]
  },
  {
   "cell_type": "markdown",
   "metadata": {},
   "source": [
    "### Modeling"
   ]
  },
  {
   "cell_type": "code",
   "execution_count": 8,
   "metadata": {},
   "outputs": [
    {
     "name": "stdout",
     "output_type": "stream",
     "text": [
      "Model: \"sequential\"\n",
      "_________________________________________________________________\n",
      "Layer (type)                 Output Shape              Param #   \n",
      "=================================================================\n",
      "embedding (Embedding)        (None, 500, 300)          4500000   \n",
      "_________________________________________________________________\n",
      "bidirectional (Bidirectional (None, 600)               1442400   \n",
      "_________________________________________________________________\n",
      "dense (Dense)                (None, 5)                 3005      \n",
      "=================================================================\n",
      "Total params: 5,945,405\n",
      "Trainable params: 5,945,405\n",
      "Non-trainable params: 0\n",
      "_________________________________________________________________\n"
     ]
    }
   ],
   "source": [
    "from tensorflow.keras.models import Sequential\n",
    "from tensorflow.keras.layers import LSTM, Bidirectional, Dense, Embedding, Flatten\n",
    "\n",
    "model = Sequential()\n",
    "model.add(Embedding(max_words, embedding_dim, input_length=max_len))\n",
    "model.add(Bidirectional(LSTM(embedding_dim)))\n",
    "model.add(Dense(5, activation='sigmoid'))\n",
    "model.summary()\n",
    "\n",
    "model.layers[0].set_weights([embedding_mat])\n",
    "model.layers[0].trainable = False"
   ]
  },
  {
   "cell_type": "code",
   "execution_count": 9,
   "metadata": {},
   "outputs": [
    {
     "name": "stdout",
     "output_type": "stream",
     "text": [
      "Train on 1072 samples, validate on 120 samples\n",
      "Epoch 1/50\n",
      "1072/1072 [==============================] - 7s 6ms/sample - loss: 1.7572 - acc: 0.2752 - val_loss: 1.5793 - val_acc: 0.2917\n",
      "Epoch 2/50\n",
      "1072/1072 [==============================] - 3s 3ms/sample - loss: 1.5951 - acc: 0.3470 - val_loss: 1.5229 - val_acc: 0.2333\n",
      "Epoch 3/50\n",
      "1072/1072 [==============================] - 3s 3ms/sample - loss: 1.3696 - acc: 0.5317 - val_loss: 0.9393 - val_acc: 0.6500\n",
      "Epoch 4/50\n",
      "1072/1072 [==============================] - 3s 3ms/sample - loss: 1.0637 - acc: 0.6222 - val_loss: 0.9043 - val_acc: 0.6500\n",
      "Epoch 5/50\n",
      "1072/1072 [==============================] - 3s 3ms/sample - loss: 0.8018 - acc: 0.7631 - val_loss: 1.7428 - val_acc: 0.4333\n",
      "Epoch 6/50\n",
      "1072/1072 [==============================] - 3s 3ms/sample - loss: 1.0427 - acc: 0.6679 - val_loss: 0.8504 - val_acc: 0.6667\n",
      "Epoch 7/50\n",
      "1072/1072 [==============================] - 3s 3ms/sample - loss: 0.5940 - acc: 0.8097 - val_loss: 0.7917 - val_acc: 0.7167\n",
      "Epoch 8/50\n",
      "1072/1072 [==============================] - 3s 3ms/sample - loss: 0.7101 - acc: 0.7687 - val_loss: 0.4095 - val_acc: 0.9000\n",
      "Epoch 9/50\n",
      "1072/1072 [==============================] - 3s 2ms/sample - loss: 0.3451 - acc: 0.9095 - val_loss: 0.7639 - val_acc: 0.8250\n",
      "Epoch 10/50\n",
      "1072/1072 [==============================] - 3s 2ms/sample - loss: 0.6139 - acc: 0.7789 - val_loss: 0.6719 - val_acc: 0.8250\n",
      "Epoch 11/50\n",
      "1072/1072 [==============================] - 3s 2ms/sample - loss: 0.4210 - acc: 0.8834 - val_loss: 0.3288 - val_acc: 0.9250\n",
      "Epoch 12/50\n",
      "1072/1072 [==============================] - 3s 2ms/sample - loss: 0.3829 - acc: 0.8834 - val_loss: 0.2934 - val_acc: 0.9167\n",
      "Epoch 13/50\n",
      "1072/1072 [==============================] - 3s 2ms/sample - loss: 0.3741 - acc: 0.8843 - val_loss: 0.4600 - val_acc: 0.8333\n",
      "Epoch 14/50\n",
      "1072/1072 [==============================] - 3s 2ms/sample - loss: 0.3773 - acc: 0.8787 - val_loss: 0.2604 - val_acc: 0.9167\n",
      "Epoch 15/50\n",
      "1072/1072 [==============================] - 3s 2ms/sample - loss: 0.4190 - acc: 0.8843 - val_loss: 0.3627 - val_acc: 0.8833\n",
      "Epoch 16/50\n",
      "1072/1072 [==============================] - 2s 2ms/sample - loss: 0.6280 - acc: 0.8144 - val_loss: 0.4340 - val_acc: 0.8917\n",
      "Epoch 17/50\n",
      "1072/1072 [==============================] - 2s 2ms/sample - loss: 0.2763 - acc: 0.9291 - val_loss: 0.3719 - val_acc: 0.8917\n",
      "Epoch 18/50\n",
      "1072/1072 [==============================] - 2s 2ms/sample - loss: 0.2929 - acc: 0.9114 - val_loss: 0.2412 - val_acc: 0.9250\n",
      "Epoch 19/50\n",
      "1072/1072 [==============================] - 2s 2ms/sample - loss: 0.5101 - acc: 0.8619 - val_loss: 0.4258 - val_acc: 0.9083\n",
      "Epoch 20/50\n",
      "1072/1072 [==============================] - 2s 2ms/sample - loss: 0.2493 - acc: 0.9384 - val_loss: 0.2732 - val_acc: 0.9333\n",
      "Epoch 21/50\n",
      "1072/1072 [==============================] - 2s 2ms/sample - loss: 0.2797 - acc: 0.9394 - val_loss: 1.0834 - val_acc: 0.7000\n",
      "Epoch 22/50\n",
      "1072/1072 [==============================] - 2s 2ms/sample - loss: 0.7190 - acc: 0.7696 - val_loss: 0.3575 - val_acc: 0.8750\n",
      "Epoch 23/50\n",
      "1072/1072 [==============================] - 2s 2ms/sample - loss: 0.2625 - acc: 0.9244 - val_loss: 0.2728 - val_acc: 0.9333\n"
     ]
    },
    {
     "data": {
      "image/png": "[encoded data removed]",
      "text/plain": [
       "<Figure size 432x288 with 1 Axes>"
      ]
     },
     "metadata": {
      "needs_background": "light"
     },
     "output_type": "display_data"
    },
    {
     "data": {
      "image/png": "[encoded data removed]",
      "text/plain": [
       "<Figure size 432x288 with 1 Axes>"
      ]
     },
     "metadata": {
      "needs_background": "light"
     },
     "output_type": "display_data"
    }
   ],
   "source": [
    "#Training\n",
    "from tensorflow.keras.metrics import Precision, Recall\n",
    "from tensorflow.keras.callbacks import Callback, EarlyStopping\n",
    "\n",
    "model.compile(optimizer='rmsprop', loss='sparse_categorical_crossentropy', metrics=['acc'])\n",
    "earlystopping = EarlyStopping(monitor = \"val_loss\", \n",
    "                                mode = \"min\", patience = 5, \n",
    "                                restore_best_weights = True)\n",
    "history = model.fit(train_x, train_y.values,\n",
    "                    epochs=50,\n",
    "                    batch_size=128,\n",
    "                    validation_split=0.1, \n",
    "                    callbacks=[earlystopping])\n",
    "accuracy, f1_score = pf.lstm_plot(model, history, test_x, test_y)"
   ]
  },
  {
   "cell_type": "code",
   "execution_count": 10,
   "metadata": {},
   "outputs": [
    {
     "name": "stdout",
     "output_type": "stream",
     "text": [
      "WARNING:tensorflow:From C:\\Users\\deguz\\anaconda3\\envs\\tf-gpu\\lib\\site-packages\\tensorflow_core\\python\\ops\\resource_variable_ops.py:1781: calling BaseResourceVariable.__init__ (from tensorflow.python.ops.resource_variable_ops) with constraint is deprecated and will be removed in a future version.\n",
      "Instructions for updating:\n",
      "If using Keras pass *_constraint arguments to layers.\n",
      "INFO:tensorflow:Assets written to: models/bilstm-word2vec\\assets\n"
     ]
    }
   ],
   "source": [
    "pf.store_results('bilstm', 'word2vec', model, accuracy, f1_score, tf_model=1)"
   ]
  }
 ],
 "metadata": {
  "interpreter": {
   "hash": "7cb1022e853cc79376f316cb56a0ade4081b3989831c5c21d525c392fdd8f794"
  },
  "kernelspec": {
   "display_name": "Python 3.7.11 64-bit ('tf-gpu': conda)",
   "language": "python",
   "name": "python3"
  },
  "language_info": {
   "codemirror_mode": {
    "name": "ipython",
    "version": 3
   },
   "file_extension": ".py",
   "mimetype": "text/x-python",
   "name": "python",
   "nbconvert_exporter": "python",
   "pygments_lexer": "ipython3",
   "version": "3.7.11"
  },
  "orig_nbformat": 4
 },
 "nbformat": 4,
 "nbformat_minor": 2
}
