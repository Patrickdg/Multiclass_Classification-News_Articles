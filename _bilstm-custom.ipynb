{
 "cells": [
  {
   "cell_type": "markdown",
   "metadata": {},
   "source": [
    "# Bi-LSTM (Custom Embeddings)"
   ]
  },
  {
   "cell_type": "markdown",
   "metadata": {},
   "source": [
    "### Libraries"
   ]
  },
  {
   "cell_type": "code",
   "execution_count": 1,
   "metadata": {},
   "outputs": [],
   "source": [
    "import process_funcs as pf\n",
    "\n",
    "import os\n",
    "import pandas as pd\n",
    "import numpy as np\n",
    "import gensim"
   ]
  },
  {
   "cell_type": "markdown",
   "metadata": {},
   "source": [
    "### Parameters"
   ]
  },
  {
   "cell_type": "code",
   "execution_count": 2,
   "metadata": {},
   "outputs": [],
   "source": [
    "max_len = 500 # maximum length of input vectors\n",
    "max_words = 15000 # top n words in vocab "
   ]
  },
  {
   "cell_type": "markdown",
   "metadata": {},
   "source": [
    "### Reading Data"
   ]
  },
  {
   "cell_type": "code",
   "execution_count": 3,
   "metadata": {},
   "outputs": [],
   "source": [
    "train_x, test_x, train_y, test_y, label_map  = pf.get_train_test()"
   ]
  },
  {
   "cell_type": "code",
   "execution_count": 4,
   "metadata": {},
   "outputs": [
    {
     "data": {
      "text/plain": [
       "['mps',\n",
       " 'tout',\n",
       " 'lords',\n",
       " 'replacement',\n",
       " 'plan',\n",
       " 'group',\n",
       " 'mps',\n",
       " 'tried',\n",
       " 'raise',\n",
       " 'pressure',\n",
       " 'tony',\n",
       " 'blair',\n",
       " 'reform',\n",
       " 'house',\n",
       " 'lords',\n",
       " 'publishing',\n",
       " 'detailed',\n",
       " 'blueprint',\n",
       " 'change',\n",
       " 'cross',\n",
       " 'party',\n",
       " 'group',\n",
       " 'unveiled',\n",
       " 'draft',\n",
       " 'bill',\n",
       " 'proposing',\n",
       " 'smaller',\n",
       " 'second',\n",
       " 'chamber',\n",
       " '70',\n",
       " 'members',\n",
       " 'would',\n",
       " 'elected',\n",
       " 'mps',\n",
       " 'peers',\n",
       " 'failed',\n",
       " 'agree',\n",
       " 'reform',\n",
       " 'since',\n",
       " '1999',\n",
       " '600',\n",
       " 'hereditaries',\n",
       " 'lost',\n",
       " 'seats',\n",
       " 'group',\n",
       " 'says',\n",
       " 'win',\n",
       " 'support',\n",
       " 'removing',\n",
       " 'last',\n",
       " '92',\n",
       " 'hereditaries',\n",
       " 'government',\n",
       " 'postponed',\n",
       " 'plans',\n",
       " 'remove',\n",
       " 'remaining',\n",
       " 'hereditary',\n",
       " 'peers',\n",
       " 'said',\n",
       " 'unlikely',\n",
       " 'succeed',\n",
       " 'opposition',\n",
       " 'lords',\n",
       " 'tony',\n",
       " 'blair',\n",
       " 'argued',\n",
       " 'needs',\n",
       " 'consensus',\n",
       " 'reforms',\n",
       " 'suggestions',\n",
       " 'proposals',\n",
       " 'changing',\n",
       " 'least',\n",
       " 'powers',\n",
       " 'lords',\n",
       " 'labour',\n",
       " 'manifesto',\n",
       " 'party',\n",
       " 'group',\n",
       " 'including',\n",
       " 'tories',\n",
       " 'ken',\n",
       " 'clarke',\n",
       " 'sir',\n",
       " 'george',\n",
       " 'young',\n",
       " 'labour',\n",
       " 'robin',\n",
       " 'cook',\n",
       " 'tony',\n",
       " 'wright',\n",
       " 'liberal',\n",
       " 'democrat',\n",
       " 'paul',\n",
       " 'tyler',\n",
       " 'confident',\n",
       " 'plan',\n",
       " 'would',\n",
       " 'win',\n",
       " 'support',\n",
       " 'large',\n",
       " 'majority',\n",
       " 'list',\n",
       " 'former',\n",
       " 'conservative',\n",
       " 'leader',\n",
       " 'william',\n",
       " 'hague',\n",
       " 'former',\n",
       " 'labour',\n",
       " 'leader',\n",
       " 'neil',\n",
       " 'kinnock',\n",
       " 'supporters',\n",
       " 'plans',\n",
       " 'group',\n",
       " 'says',\n",
       " 'british',\n",
       " 'public',\n",
       " 'clear',\n",
       " 'majority',\n",
       " 'mps',\n",
       " 'support',\n",
       " 'replacing',\n",
       " 'lords',\n",
       " 'largely',\n",
       " 'elected',\n",
       " 'second',\n",
       " 'chamber',\n",
       " 'plan',\n",
       " 'would',\n",
       " 'see',\n",
       " 'house',\n",
       " 'lords',\n",
       " 'renamed',\n",
       " 'second',\n",
       " 'chamber',\n",
       " 'parliament',\n",
       " 'members',\n",
       " 'would',\n",
       " 'known',\n",
       " 'mscps',\n",
       " 'would',\n",
       " '385',\n",
       " 'mscps',\n",
       " 'including',\n",
       " '270',\n",
       " 'elected',\n",
       " 'members',\n",
       " '87',\n",
       " 'appointed',\n",
       " 'members',\n",
       " '16',\n",
       " 'bishops',\n",
       " 'would',\n",
       " 'serve',\n",
       " '12',\n",
       " '14',\n",
       " 'years',\n",
       " 'mr',\n",
       " 'cook',\n",
       " 'said',\n",
       " 'holding',\n",
       " 'elections',\n",
       " 'mscps',\n",
       " 'day',\n",
       " 'mps',\n",
       " 'might',\n",
       " 'help',\n",
       " 'motivate',\n",
       " 'electorate',\n",
       " 'increase',\n",
       " 'voter',\n",
       " 'turnout',\n",
       " 'added',\n",
       " 'last',\n",
       " 'year',\n",
       " 'seen',\n",
       " 'many',\n",
       " 'statements',\n",
       " 'senior',\n",
       " 'figures',\n",
       " 'government',\n",
       " 'insisting',\n",
       " 'public',\n",
       " 'must',\n",
       " 'right',\n",
       " 'choice',\n",
       " 'could',\n",
       " 'important',\n",
       " 'choice',\n",
       " 'people',\n",
       " 'sit',\n",
       " 'parliament',\n",
       " 'group',\n",
       " 'believes',\n",
       " 'pressure',\n",
       " 'growing',\n",
       " 'change']"
      ]
     },
     "execution_count": 4,
     "metadata": {},
     "output_type": "execute_result"
    }
   ],
   "source": [
    "#Sample instance\n",
    "train_x[0][0:200]"
   ]
  },
  {
   "cell_type": "markdown",
   "metadata": {},
   "source": [
    "### Data Processing"
   ]
  },
  {
   "cell_type": "code",
   "execution_count": 5,
   "metadata": {},
   "outputs": [
    {
     "data": {
      "text/plain": [
       "[('said', 1), ('mr', 2), ('would', 3), ('year', 4), ('also', 5)]"
      ]
     },
     "execution_count": 5,
     "metadata": {},
     "output_type": "execute_result"
    }
   ],
   "source": [
    "train_x, tokenizer = pf.lstm_build_sequences(train_x, max_words, max_len)\n",
    "test_x, tokenizer = pf.lstm_build_sequences(test_x, max_words, max_len, tokenizer=tokenizer)\n",
    "word_index = tokenizer.word_index\n",
    "\n",
    "list(word_index.items())[:5]"
   ]
  },
  {
   "cell_type": "markdown",
   "metadata": {},
   "source": [
    "### Embeddings: Custom\n",
    "\n",
    "Using custom trained Word2Vec embeddings (on train_x set), *obtain document vectors by taking the average of all found word vectors.* "
   ]
  },
  {
   "cell_type": "code",
   "execution_count": 6,
   "metadata": {},
   "outputs": [
    {
     "data": {
      "text/plain": [
       "array([-2.90044099e-01,  3.59430015e-01,  2.48870715e-01, -2.82393415e-02,\n",
       "        1.41623110e-01, -8.19525063e-01,  2.65341699e-01,  9.85383213e-01,\n",
       "       -3.41951907e-01, -3.67978811e-01, -3.71961445e-01, -7.59894550e-01,\n",
       "       -1.44224748e-01,  3.28498483e-01,  1.09700061e-01, -4.06162053e-01,\n",
       "        3.44611891e-02, -5.55934727e-01,  1.05890691e-01, -1.02582669e+00,\n",
       "        9.64341983e-02,  4.67433631e-01,  2.92174608e-01, -2.41391033e-01,\n",
       "        1.74294729e-02, -5.82534149e-02, -3.85833681e-01, -6.68074787e-02,\n",
       "       -4.87894446e-01,  3.07648517e-02,  2.60165840e-01,  1.24028340e-01,\n",
       "        3.38057876e-02, -3.44380796e-01, -1.49403095e-01,  3.88319135e-01,\n",
       "       -2.96244696e-02, -5.40337443e-01, -1.06616601e-01, -8.14761877e-01,\n",
       "        2.59913713e-01, -4.67677951e-01, -2.61597395e-01, -2.17816103e-02,\n",
       "        3.42463166e-01, -3.88499916e-01, -4.27326769e-01, -5.06307296e-02,\n",
       "        3.58640820e-01,  2.96276063e-01,  7.20875803e-03, -5.05444229e-01,\n",
       "       -3.69120389e-01, -1.87632054e-01, -5.19158304e-01, -1.87505990e-01,\n",
       "        1.15099080e-01, -1.90027878e-01, -2.84871906e-01,  1.68261990e-01,\n",
       "        1.26398683e-01,  2.64058888e-01, -2.17297345e-01, -4.60338853e-02,\n",
       "       -3.97607654e-01,  5.40499091e-01,  5.42693026e-02,  3.08009267e-01,\n",
       "       -6.79301202e-01,  7.13618398e-01, -3.14297080e-01,  2.20382094e-01,\n",
       "        4.63651419e-01, -2.89592117e-01,  3.00237298e-01,  3.21908802e-01,\n",
       "       -6.07669316e-02, -5.25885336e-02, -6.06060088e-01,  8.95399833e-04,\n",
       "       -4.09190238e-01, -3.98296684e-01, -3.33397418e-01,  7.08298743e-01,\n",
       "        1.11598276e-01,  1.72255680e-01, -3.47206779e-02,  5.22850871e-01,\n",
       "        2.87716001e-01,  1.09418243e-01,  4.24114197e-01,  2.62137920e-01,\n",
       "        1.02771655e-01,  3.23464274e-01,  1.02523935e+00,  2.16847599e-01,\n",
       "        5.05091190e-01, -7.62648225e-01,  2.52117336e-01,  2.86297083e-01],\n",
       "      dtype=float32)"
      ]
     },
     "execution_count": 6,
     "metadata": {},
     "output_type": "execute_result"
    }
   ],
   "source": [
    "#Custom embeddings\n",
    "embeddings_index = pf.get_custom_embeddings()\n",
    "embeddings_index['test']"
   ]
  },
  {
   "cell_type": "code",
   "execution_count": 7,
   "metadata": {},
   "outputs": [],
   "source": [
    "embedding_dim, embedding_mat = pf.lstm_build_embed_mat(embeddings_index, word_index, max_words)"
   ]
  },
  {
   "cell_type": "markdown",
   "metadata": {},
   "source": [
    "### Modeling"
   ]
  },
  {
   "cell_type": "code",
   "execution_count": 8,
   "metadata": {},
   "outputs": [
    {
     "name": "stdout",
     "output_type": "stream",
     "text": [
      "Model: \"sequential\"\n",
      "_________________________________________________________________\n",
      "Layer (type)                 Output Shape              Param #   \n",
      "=================================================================\n",
      "embedding (Embedding)        (None, 500, 100)          1500000   \n",
      "_________________________________________________________________\n",
      "bidirectional (Bidirectional (None, 200)               160800    \n",
      "_________________________________________________________________\n",
      "dense (Dense)                (None, 5)                 1005      \n",
      "=================================================================\n",
      "Total params: 1,661,805\n",
      "Trainable params: 1,661,805\n",
      "Non-trainable params: 0\n",
      "_________________________________________________________________\n"
     ]
    }
   ],
   "source": [
    "from tensorflow.keras.models import Sequential\n",
    "from tensorflow.keras.layers import LSTM, Bidirectional, Dense, Embedding, Flatten\n",
    "\n",
    "model = Sequential()\n",
    "model.add(Embedding(max_words, embedding_dim, input_length=max_len))\n",
    "model.add(Bidirectional(LSTM(embedding_dim)))\n",
    "model.add(Dense(5, activation='sigmoid'))\n",
    "model.summary()\n",
    "\n",
    "model.layers[0].set_weights([embedding_mat])\n",
    "model.layers[0].trainable = False"
   ]
  },
  {
   "cell_type": "code",
   "execution_count": 9,
   "metadata": {},
   "outputs": [
    {
     "name": "stdout",
     "output_type": "stream",
     "text": [
      "Train on 1072 samples, validate on 120 samples\n",
      "Epoch 1/50\n",
      "1072/1072 [==============================] - 7s 6ms/sample - loss: 1.5930 - acc: 0.2584 - val_loss: 1.5566 - val_acc: 0.3500\n",
      "Epoch 2/50\n",
      "1072/1072 [==============================] - 1s 1ms/sample - loss: 1.6187 - acc: 0.2481 - val_loss: 1.5822 - val_acc: 0.3417\n",
      "Epoch 3/50\n",
      "1072/1072 [==============================] - 1s 1ms/sample - loss: 1.5601 - acc: 0.2743 - val_loss: 1.4969 - val_acc: 0.3500\n",
      "Epoch 4/50\n",
      "1072/1072 [==============================] - 1s 1ms/sample - loss: 1.4418 - acc: 0.3722 - val_loss: 1.5145 - val_acc: 0.2333\n",
      "Epoch 5/50\n",
      "1072/1072 [==============================] - 1s 1ms/sample - loss: 1.5094 - acc: 0.3060 - val_loss: 1.3892 - val_acc: 0.4083\n",
      "Epoch 6/50\n",
      "1072/1072 [==============================] - 1s 1ms/sample - loss: 1.3533 - acc: 0.4011 - val_loss: 1.6251 - val_acc: 0.3667\n",
      "Epoch 7/50\n",
      "1072/1072 [==============================] - 1s 1ms/sample - loss: 1.4980 - acc: 0.3442 - val_loss: 1.4296 - val_acc: 0.3833\n",
      "Epoch 8/50\n",
      "1072/1072 [==============================] - 1s 1ms/sample - loss: 1.4843 - acc: 0.3638 - val_loss: 1.4318 - val_acc: 0.4083\n",
      "Epoch 9/50\n",
      "1072/1072 [==============================] - 1s 1ms/sample - loss: 1.3546 - acc: 0.4198 - val_loss: 1.6520 - val_acc: 0.3250\n",
      "Epoch 10/50\n",
      "1072/1072 [==============================] - 1s 1ms/sample - loss: 1.3775 - acc: 0.4132 - val_loss: 1.4202 - val_acc: 0.4250\n",
      "Epoch 11/50\n",
      "1072/1072 [==============================] - 1s 1ms/sample - loss: 1.4714 - acc: 0.3535 - val_loss: 1.4379 - val_acc: 0.3750\n",
      "Epoch 12/50\n",
      "1072/1072 [==============================] - 1s 1ms/sample - loss: 1.3868 - acc: 0.4076 - val_loss: 1.3769 - val_acc: 0.4667\n",
      "Epoch 13/50\n",
      "1072/1072 [==============================] - 1s 1ms/sample - loss: 1.3317 - acc: 0.4319 - val_loss: 1.4592 - val_acc: 0.4250\n",
      "Epoch 14/50\n",
      "1072/1072 [==============================] - 1s 1ms/sample - loss: 1.3792 - acc: 0.4235 - val_loss: 1.3906 - val_acc: 0.2917\n",
      "Epoch 15/50\n",
      "1072/1072 [==============================] - 1s 1ms/sample - loss: 1.3129 - acc: 0.4142 - val_loss: 1.2862 - val_acc: 0.4750\n",
      "Epoch 16/50\n",
      "1072/1072 [==============================] - 1s 1ms/sample - loss: 1.3904 - acc: 0.4282 - val_loss: 1.6063 - val_acc: 0.2250\n",
      "Epoch 17/50\n",
      "1072/1072 [==============================] - 1s 1ms/sample - loss: 1.4387 - acc: 0.3657 - val_loss: 1.3644 - val_acc: 0.4167\n",
      "Epoch 18/50\n",
      "1072/1072 [==============================] - 1s 1ms/sample - loss: 1.7223 - acc: 0.2453 - val_loss: 1.5766 - val_acc: 0.2417\n",
      "Epoch 19/50\n",
      "1072/1072 [==============================] - 1s 959us/sample - loss: 1.4848 - acc: 0.3713 - val_loss: 1.4379 - val_acc: 0.4250\n",
      "Epoch 20/50\n",
      "1072/1072 [==============================] - 1s 993us/sample - loss: 1.3896 - acc: 0.4291 - val_loss: 1.3585 - val_acc: 0.4333\n",
      "Epoch 21/50\n",
      "1072/1072 [==============================] - 1s 954us/sample - loss: 1.3597 - acc: 0.4104 - val_loss: 1.3400 - val_acc: 0.4667\n",
      "Epoch 22/50\n",
      "1072/1072 [==============================] - 1s 958us/sample - loss: 1.3760 - acc: 0.3918 - val_loss: 1.3339 - val_acc: 0.4917\n",
      "Epoch 23/50\n",
      "1072/1072 [==============================] - 1s 968us/sample - loss: 1.3231 - acc: 0.4375 - val_loss: 1.2838 - val_acc: 0.5417\n",
      "Epoch 24/50\n",
      "1072/1072 [==============================] - 1s 967us/sample - loss: 1.4663 - acc: 0.4095 - val_loss: 1.2996 - val_acc: 0.5083\n",
      "Epoch 25/50\n",
      "1072/1072 [==============================] - 1s 1ms/sample - loss: 1.2741 - acc: 0.4618 - val_loss: 1.2990 - val_acc: 0.4000\n",
      "Epoch 26/50\n",
      "1072/1072 [==============================] - 1s 1ms/sample - loss: 1.3701 - acc: 0.3797 - val_loss: 1.4397 - val_acc: 0.3500\n",
      "Epoch 27/50\n",
      "1072/1072 [==============================] - 1s 1ms/sample - loss: 1.3258 - acc: 0.4487 - val_loss: 1.4150 - val_acc: 0.3167\n",
      "Epoch 28/50\n",
      "1072/1072 [==============================] - 1s 1ms/sample - loss: 1.3287 - acc: 0.4412 - val_loss: 1.3631 - val_acc: 0.4917\n",
      "Epoch 29/50\n",
      "1072/1072 [==============================] - 1s 1ms/sample - loss: 1.3176 - acc: 0.4291 - val_loss: 1.2632 - val_acc: 0.5417\n",
      "Epoch 30/50\n",
      "1072/1072 [==============================] - 1s 1ms/sample - loss: 1.2799 - acc: 0.4571 - val_loss: 1.4251 - val_acc: 0.3667\n",
      "Epoch 31/50\n",
      "1072/1072 [==============================] - 1s 1ms/sample - loss: 1.3365 - acc: 0.4160 - val_loss: 1.3908 - val_acc: 0.4417\n",
      "Epoch 32/50\n",
      "1072/1072 [==============================] - 1s 1ms/sample - loss: 1.2933 - acc: 0.4646 - val_loss: 1.3285 - val_acc: 0.5417\n",
      "Epoch 33/50\n",
      "1072/1072 [==============================] - 1s 1ms/sample - loss: 1.3049 - acc: 0.4590 - val_loss: 1.3785 - val_acc: 0.4417\n",
      "Epoch 34/50\n",
      "1072/1072 [==============================] - 1s 1ms/sample - loss: 1.2577 - acc: 0.4785 - val_loss: 1.3340 - val_acc: 0.4750\n",
      "Epoch 35/50\n",
      "1072/1072 [==============================] - 1s 1ms/sample - loss: 1.3284 - acc: 0.4282 - val_loss: 1.2746 - val_acc: 0.5250\n",
      "Epoch 36/50\n",
      "1072/1072 [==============================] - 1s 1ms/sample - loss: 1.1853 - acc: 0.5215 - val_loss: 1.3142 - val_acc: 0.4917\n",
      "Epoch 37/50\n",
      "1072/1072 [==============================] - 1s 1ms/sample - loss: 1.1574 - acc: 0.5233 - val_loss: 1.3845 - val_acc: 0.4500\n",
      "Epoch 38/50\n",
      "1072/1072 [==============================] - 1s 1ms/sample - loss: 1.1916 - acc: 0.5000 - val_loss: 1.3918 - val_acc: 0.3667\n",
      "Epoch 39/50\n",
      "1072/1072 [==============================] - 1s 960us/sample - loss: 1.2625 - acc: 0.4739 - val_loss: 1.5462 - val_acc: 0.2750\n",
      "Epoch 40/50\n",
      "1072/1072 [==============================] - 1s 958us/sample - loss: 1.2420 - acc: 0.4776 - val_loss: 1.3801 - val_acc: 0.4000\n",
      "Epoch 41/50\n",
      "1072/1072 [==============================] - 1s 976us/sample - loss: 1.1721 - acc: 0.5075 - val_loss: 1.1628 - val_acc: 0.5500\n",
      "Epoch 42/50\n",
      "1072/1072 [==============================] - 1s 953us/sample - loss: 1.1508 - acc: 0.5037 - val_loss: 1.1660 - val_acc: 0.5667\n",
      "Epoch 43/50\n",
      "1072/1072 [==============================] - 1s 979us/sample - loss: 1.1053 - acc: 0.5354 - val_loss: 1.8979 - val_acc: 0.3000\n",
      "Epoch 44/50\n",
      "1072/1072 [==============================] - 1s 1ms/sample - loss: 1.4089 - acc: 0.3955 - val_loss: 1.3478 - val_acc: 0.3750\n",
      "Epoch 45/50\n",
      "1072/1072 [==============================] - 1s 1ms/sample - loss: 1.2161 - acc: 0.4767 - val_loss: 1.3214 - val_acc: 0.5333\n",
      "Epoch 46/50\n",
      "1072/1072 [==============================] - 1s 1ms/sample - loss: 1.1889 - acc: 0.5205 - val_loss: 1.1846 - val_acc: 0.5167\n",
      "Epoch 47/50\n",
      "1072/1072 [==============================] - 1s 1ms/sample - loss: 1.1716 - acc: 0.4841 - val_loss: 3.1370 - val_acc: 0.2583\n",
      "Epoch 48/50\n",
      "1072/1072 [==============================] - 1s 1ms/sample - loss: 1.3405 - acc: 0.5187 - val_loss: 1.1141 - val_acc: 0.6000\n",
      "Epoch 49/50\n",
      "1072/1072 [==============================] - 1s 983us/sample - loss: 1.0919 - acc: 0.5457 - val_loss: 1.4073 - val_acc: 0.3750\n",
      "Epoch 50/50\n",
      "1072/1072 [==============================] - 1s 989us/sample - loss: 1.1746 - acc: 0.5252 - val_loss: 1.4140 - val_acc: 0.5333\n"
     ]
    },
    {
     "data": {
      "image/png": "[encoded data removed]",
      "text/plain": [
       "<Figure size 432x288 with 1 Axes>"
      ]
     },
     "metadata": {
      "needs_background": "light"
     },
     "output_type": "display_data"
    },
    {
     "data": {
      "image/png": "[encoded data removed]",
      "text/plain": [
       "<Figure size 432x288 with 1 Axes>"
      ]
     },
     "metadata": {
      "needs_background": "light"
     },
     "output_type": "display_data"
    }
   ],
   "source": [
    "#Training\n",
    "from tensorflow.keras.metrics import Precision, Recall\n",
    "from tensorflow.keras.callbacks import Callback, EarlyStopping\n",
    "\n",
    "model.compile(optimizer='rmsprop', loss='sparse_categorical_crossentropy', metrics=['acc'])\n",
    "earlystopping = EarlyStopping(monitor = \"val_loss\", \n",
    "                                mode = \"min\", patience = 15, \n",
    "                                restore_best_weights = True)\n",
    "history = model.fit(train_x, train_y.values,\n",
    "                    epochs=50,\n",
    "                    batch_size=128,\n",
    "                    validation_split=0.1,\n",
    "                    callbacks=[earlystopping])\n",
    "accuracy, f1_score = pf.lstm_plot(model, history, test_x, test_y)"
   ]
  },
  {
   "cell_type": "code",
   "execution_count": 11,
   "metadata": {},
   "outputs": [
    {
     "name": "stdout",
     "output_type": "stream",
     "text": [
      "INFO:tensorflow:Assets written to: models/bilstm-custom\\assets\n"
     ]
    }
   ],
   "source": [
    "pf.store_results('bilstm', 'custom', model, accuracy, f1_score, tf_model=1)"
   ]
  }
 ],
 "metadata": {
  "interpreter": {
   "hash": "7cb1022e853cc79376f316cb56a0ade4081b3989831c5c21d525c392fdd8f794"
  },
  "kernelspec": {
   "display_name": "Python 3.7.11 64-bit ('tf-gpu': conda)",
   "language": "python",
   "name": "python3"
  },
  "language_info": {
   "codemirror_mode": {
    "name": "ipython",
    "version": 3
   },
   "file_extension": ".py",
   "mimetype": "text/x-python",
   "name": "python",
   "nbconvert_exporter": "python",
   "pygments_lexer": "ipython3",
   "version": "3.7.11"
  },
  "orig_nbformat": 4
 },
 "nbformat": 4,
 "nbformat_minor": 2
}
