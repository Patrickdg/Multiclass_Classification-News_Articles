{
 "cells": [
  {
   "cell_type": "markdown",
   "metadata": {},
   "source": [
    "# Bi-LSTM (FastText Embeddings)"
   ]
  },
  {
   "cell_type": "markdown",
   "metadata": {},
   "source": [
    "### Libraries"
   ]
  },
  {
   "cell_type": "code",
   "execution_count": 1,
   "metadata": {},
   "outputs": [],
   "source": [
    "import process_funcs as pf\n",
    "\n",
    "import os\n",
    "import pandas as pd\n",
    "import numpy as np"
   ]
  },
  {
   "cell_type": "markdown",
   "metadata": {},
   "source": [
    "### Parameters"
   ]
  },
  {
   "cell_type": "code",
   "execution_count": 2,
   "metadata": {},
   "outputs": [],
   "source": [
    "max_len = 500 # maximum length of input vectors\n",
    "max_words = 15000 # top n words in vocab "
   ]
  },
  {
   "cell_type": "markdown",
   "metadata": {},
   "source": [
    "### Reading Data"
   ]
  },
  {
   "cell_type": "code",
   "execution_count": 3,
   "metadata": {},
   "outputs": [],
   "source": [
    "train_x, test_x, train_y, test_y, label_map  = pf.get_train_test()"
   ]
  },
  {
   "cell_type": "code",
   "execution_count": 4,
   "metadata": {},
   "outputs": [
    {
     "data": {
      "text/plain": [
       "['mps',\n",
       " 'tout',\n",
       " 'lords',\n",
       " 'replacement',\n",
       " 'plan',\n",
       " 'group',\n",
       " 'mps',\n",
       " 'tried',\n",
       " 'raise',\n",
       " 'pressure',\n",
       " 'tony',\n",
       " 'blair',\n",
       " 'reform',\n",
       " 'house',\n",
       " 'lords',\n",
       " 'publishing',\n",
       " 'detailed',\n",
       " 'blueprint',\n",
       " 'change',\n",
       " 'cross',\n",
       " 'party',\n",
       " 'group',\n",
       " 'unveiled',\n",
       " 'draft',\n",
       " 'bill',\n",
       " 'proposing',\n",
       " 'smaller',\n",
       " 'second',\n",
       " 'chamber',\n",
       " '70',\n",
       " 'members',\n",
       " 'would',\n",
       " 'elected',\n",
       " 'mps',\n",
       " 'peers',\n",
       " 'failed',\n",
       " 'agree',\n",
       " 'reform',\n",
       " 'since',\n",
       " '1999',\n",
       " '600',\n",
       " 'hereditaries',\n",
       " 'lost',\n",
       " 'seats',\n",
       " 'group',\n",
       " 'says',\n",
       " 'win',\n",
       " 'support',\n",
       " 'removing',\n",
       " 'last',\n",
       " '92',\n",
       " 'hereditaries',\n",
       " 'government',\n",
       " 'postponed',\n",
       " 'plans',\n",
       " 'remove',\n",
       " 'remaining',\n",
       " 'hereditary',\n",
       " 'peers',\n",
       " 'said',\n",
       " 'unlikely',\n",
       " 'succeed',\n",
       " 'opposition',\n",
       " 'lords',\n",
       " 'tony',\n",
       " 'blair',\n",
       " 'argued',\n",
       " 'needs',\n",
       " 'consensus',\n",
       " 'reforms',\n",
       " 'suggestions',\n",
       " 'proposals',\n",
       " 'changing',\n",
       " 'least',\n",
       " 'powers',\n",
       " 'lords',\n",
       " 'labour',\n",
       " 'manifesto',\n",
       " 'party',\n",
       " 'group',\n",
       " 'including',\n",
       " 'tories',\n",
       " 'ken',\n",
       " 'clarke',\n",
       " 'sir',\n",
       " 'george',\n",
       " 'young',\n",
       " 'labour',\n",
       " 'robin',\n",
       " 'cook',\n",
       " 'tony',\n",
       " 'wright',\n",
       " 'liberal',\n",
       " 'democrat',\n",
       " 'paul',\n",
       " 'tyler',\n",
       " 'confident',\n",
       " 'plan',\n",
       " 'would',\n",
       " 'win',\n",
       " 'support',\n",
       " 'large',\n",
       " 'majority',\n",
       " 'list',\n",
       " 'former',\n",
       " 'conservative',\n",
       " 'leader',\n",
       " 'william',\n",
       " 'hague',\n",
       " 'former',\n",
       " 'labour',\n",
       " 'leader',\n",
       " 'neil',\n",
       " 'kinnock',\n",
       " 'supporters',\n",
       " 'plans',\n",
       " 'group',\n",
       " 'says',\n",
       " 'british',\n",
       " 'public',\n",
       " 'clear',\n",
       " 'majority',\n",
       " 'mps',\n",
       " 'support',\n",
       " 'replacing',\n",
       " 'lords',\n",
       " 'largely',\n",
       " 'elected',\n",
       " 'second',\n",
       " 'chamber',\n",
       " 'plan',\n",
       " 'would',\n",
       " 'see',\n",
       " 'house',\n",
       " 'lords',\n",
       " 'renamed',\n",
       " 'second',\n",
       " 'chamber',\n",
       " 'parliament',\n",
       " 'members',\n",
       " 'would',\n",
       " 'known',\n",
       " 'mscps',\n",
       " 'would',\n",
       " '385',\n",
       " 'mscps',\n",
       " 'including',\n",
       " '270',\n",
       " 'elected',\n",
       " 'members',\n",
       " '87',\n",
       " 'appointed',\n",
       " 'members',\n",
       " '16',\n",
       " 'bishops',\n",
       " 'would',\n",
       " 'serve',\n",
       " '12',\n",
       " '14',\n",
       " 'years',\n",
       " 'mr',\n",
       " 'cook',\n",
       " 'said',\n",
       " 'holding',\n",
       " 'elections',\n",
       " 'mscps',\n",
       " 'day',\n",
       " 'mps',\n",
       " 'might',\n",
       " 'help',\n",
       " 'motivate',\n",
       " 'electorate',\n",
       " 'increase',\n",
       " 'voter',\n",
       " 'turnout',\n",
       " 'added',\n",
       " 'last',\n",
       " 'year',\n",
       " 'seen',\n",
       " 'many',\n",
       " 'statements',\n",
       " 'senior',\n",
       " 'figures',\n",
       " 'government',\n",
       " 'insisting',\n",
       " 'public',\n",
       " 'must',\n",
       " 'right',\n",
       " 'choice',\n",
       " 'could',\n",
       " 'important',\n",
       " 'choice',\n",
       " 'people',\n",
       " 'sit',\n",
       " 'parliament',\n",
       " 'group',\n",
       " 'believes',\n",
       " 'pressure',\n",
       " 'growing',\n",
       " 'change']"
      ]
     },
     "execution_count": 4,
     "metadata": {},
     "output_type": "execute_result"
    }
   ],
   "source": [
    "#Sample instance\n",
    "train_x[0][0:200]"
   ]
  },
  {
   "cell_type": "markdown",
   "metadata": {},
   "source": [
    "### Data Processing"
   ]
  },
  {
   "cell_type": "code",
   "execution_count": 5,
   "metadata": {},
   "outputs": [
    {
     "data": {
      "text/plain": [
       "[('said', 1), ('mr', 2), ('would', 3), ('year', 4), ('also', 5)]"
      ]
     },
     "execution_count": 5,
     "metadata": {},
     "output_type": "execute_result"
    }
   ],
   "source": [
    "train_x, tokenizer = pf.lstm_build_sequences(train_x, max_words, max_len)\n",
    "test_x, tokenizer = pf.lstm_build_sequences(test_x, max_words, max_len, tokenizer=tokenizer)\n",
    "word_index = tokenizer.word_index\n",
    "\n",
    "list(word_index.items())[:5]"
   ]
  },
  {
   "cell_type": "markdown",
   "metadata": {},
   "source": [
    "### Embeddings: FastText"
   ]
  },
  {
   "cell_type": "code",
   "execution_count": 6,
   "metadata": {},
   "outputs": [
    {
     "data": {
      "text/plain": [
       "array([ 2.470e-02,  1.440e-02,  8.120e-02,  7.820e-02,  1.574e-01,\n",
       "       -5.940e-02,  1.040e-02,  4.900e-02,  6.830e-02, -1.250e-02,\n",
       "        4.900e-03, -1.502e-01,  3.550e-02, -2.150e-02, -7.810e-02,\n",
       "        1.390e-02,  1.590e-02,  8.020e-02,  7.940e-02,  5.510e-02,\n",
       "       -9.240e-02, -2.400e-03, -1.080e-02,  3.920e-02, -9.550e-02,\n",
       "       -5.410e-02,  1.295e-01, -4.210e-02, -4.820e-02,  5.940e-02,\n",
       "       -6.630e-02,  3.570e-02, -4.980e-02, -7.060e-02, -5.330e-02,\n",
       "       -5.830e-02,  6.570e-02, -4.200e-02, -1.000e-04, -6.680e-02,\n",
       "        1.077e-01,  4.500e-02,  6.790e-02,  1.968e-01, -1.050e-02,\n",
       "       -1.794e-01, -1.018e-01,  8.600e-03, -1.510e-02,  3.370e-02,\n",
       "       -4.600e-02,  4.870e-02, -7.331e-01, -1.660e-02, -1.825e-01,\n",
       "        1.104e-01, -3.210e-02,  2.130e-02,  1.080e-02, -6.190e-02,\n",
       "        5.100e-03, -4.690e-02, -1.475e-01,  1.425e-01, -2.120e-01,\n",
       "       -6.640e-02, -7.300e-03,  8.390e-02,  1.497e-01, -1.082e-01,\n",
       "       -2.500e-03, -2.200e-03, -1.308e-01, -6.240e-02, -3.580e-02,\n",
       "       -9.810e-02,  3.390e-02,  1.420e-01,  5.600e-02, -5.000e-02,\n",
       "        3.860e-02,  9.730e-02, -2.200e-03, -2.228e-01, -9.760e-02,\n",
       "        1.315e-01, -8.360e-02,  1.648e-01,  1.491e-01,  1.238e-01,\n",
       "       -6.060e-02, -5.500e-02, -1.223e-01, -3.940e-02, -9.800e-03,\n",
       "        6.940e-02,  1.308e-01, -1.843e-01,  1.694e-01, -1.457e-01,\n",
       "       -1.247e-01,  2.140e-02,  2.870e-02, -3.080e-02, -3.540e-02,\n",
       "        8.510e-02,  4.120e-02,  6.900e-02, -4.070e-02, -7.630e-02,\n",
       "       -8.210e-02, -6.050e-02,  8.920e-02,  1.410e-01,  1.336e-01,\n",
       "       -7.440e-02,  1.420e-02,  6.150e-02, -3.820e-02, -2.626e-01,\n",
       "       -3.610e-02, -1.170e-01,  9.400e-02,  1.934e-01,  7.300e-02,\n",
       "        1.669e-01,  2.500e-03, -1.316e-01, -1.421e-01, -5.740e-02,\n",
       "        1.310e-02,  1.270e-01, -1.406e-01,  8.030e-02, -1.736e-01,\n",
       "       -1.070e-02,  1.000e-01,  3.260e-02,  4.860e-02,  3.280e-02,\n",
       "        4.600e-03,  4.600e-02,  7.930e-02,  2.012e-01, -7.130e-02,\n",
       "       -4.560e-02, -6.500e-03, -2.960e-02, -4.900e-03,  1.214e-01,\n",
       "       -1.098e-01,  1.800e-02, -1.410e-01,  5.540e-02, -1.716e-01,\n",
       "        1.197e-01, -3.600e-03,  7.330e-02,  7.720e-02, -1.310e-02,\n",
       "        9.760e-02,  4.730e-02, -4.060e-02, -6.750e-02, -9.490e-02,\n",
       "        3.670e-02, -1.210e-02, -7.500e-02,  3.460e-02,  2.960e-02,\n",
       "        1.033e-01, -1.244e-01, -3.260e-02, -5.760e-02,  2.140e-02,\n",
       "       -6.060e-02,  2.546e-01, -1.622e-01,  9.330e-02, -2.800e-03,\n",
       "       -3.570e-02, -7.230e-02,  2.380e-02, -1.188e-01,  1.400e-02,\n",
       "       -2.037e-01, -6.140e-02,  2.260e-02,  4.000e-02, -4.670e-02,\n",
       "        7.720e-02,  2.408e-01,  3.850e-02,  1.484e-01,  2.580e-02,\n",
       "        9.220e-02, -1.977e-01, -1.618e-01,  1.680e-01, -2.030e-02,\n",
       "        2.470e-02,  1.241e-01, -1.293e-01,  5.860e-02, -1.064e-01,\n",
       "        1.446e-01, -3.263e-01,  5.980e-02,  5.920e-02,  7.970e-02,\n",
       "        2.010e-02, -2.340e-02,  1.024e-01, -4.090e-02,  1.393e-01,\n",
       "        2.630e-02, -8.100e-02,  6.190e-02,  3.090e-02,  9.270e-02,\n",
       "        3.690e-02,  4.560e-02, -6.490e-02,  1.182e-01, -1.505e-01,\n",
       "       -2.491e-01,  1.960e-02,  1.408e-01, -6.490e-02, -1.297e-01,\n",
       "       -1.736e-01, -5.780e-02,  2.330e-01,  1.314e-01,  8.960e-02,\n",
       "       -8.000e-02, -5.070e-02, -3.830e-02, -1.875e-01, -1.195e-01,\n",
       "        4.930e-02, -3.840e-02, -7.320e-02, -2.690e-02,  1.442e-01,\n",
       "        7.010e-02, -4.230e-02,  6.070e-02,  1.280e-02,  2.639e-01,\n",
       "        8.900e-03, -2.480e-02,  5.310e-02, -6.230e-02, -2.061e-01,\n",
       "        2.296e-01, -2.469e-01,  1.518e-01, -8.120e-02,  1.205e-01,\n",
       "        7.940e-02,  2.016e-01,  4.280e-02,  3.950e-02,  3.200e-02,\n",
       "        1.920e-02, -1.180e-02, -1.174e-01, -1.033e-01, -7.670e-02,\n",
       "        4.060e-02,  1.948e-01, -1.881e-01, -9.650e-02,  6.150e-02,\n",
       "       -5.610e-02,  5.950e-02, -1.021e-01,  5.080e-02,  1.476e-01,\n",
       "       -8.000e-03, -2.130e-02,  5.600e-03,  7.330e-02,  1.246e-01,\n",
       "        9.260e-02, -9.810e-02,  2.022e-01,  2.390e-02,  1.823e-01,\n",
       "       -1.710e-02,  3.900e-02, -9.890e-02, -7.700e-03, -9.500e-02,\n",
       "        1.624e-01,  6.700e-02,  2.893e-01,  1.063e-01, -3.980e-02],\n",
       "      dtype=float32)"
      ]
     },
     "execution_count": 6,
     "metadata": {},
     "output_type": "execute_result"
    }
   ],
   "source": [
    "embeddings_index = pf.get_fasttext_embeddings()\n",
    "embeddings_index['test']"
   ]
  },
  {
   "cell_type": "code",
   "execution_count": 7,
   "metadata": {},
   "outputs": [],
   "source": [
    "embedding_dim, embedding_mat = pf.lstm_build_embed_mat(embeddings_index, word_index, max_words, 300)"
   ]
  },
  {
   "cell_type": "markdown",
   "metadata": {},
   "source": [
    "### Modeling"
   ]
  },
  {
   "cell_type": "code",
   "execution_count": 8,
   "metadata": {},
   "outputs": [
    {
     "name": "stdout",
     "output_type": "stream",
     "text": [
      "Model: \"sequential\"\n",
      "_________________________________________________________________\n",
      "Layer (type)                 Output Shape              Param #   \n",
      "=================================================================\n",
      "embedding (Embedding)        (None, 500, 300)          4500000   \n",
      "_________________________________________________________________\n",
      "bidirectional (Bidirectional (None, 600)               1442400   \n",
      "_________________________________________________________________\n",
      "dense (Dense)                (None, 5)                 3005      \n",
      "=================================================================\n",
      "Total params: 5,945,405\n",
      "Trainable params: 5,945,405\n",
      "Non-trainable params: 0\n",
      "_________________________________________________________________\n"
     ]
    }
   ],
   "source": [
    "from tensorflow.keras.models import Sequential\n",
    "from tensorflow.keras.layers import LSTM, Bidirectional, Dense, Embedding, Flatten\n",
    "\n",
    "#Architecture\n",
    "model = Sequential()\n",
    "model.add(Embedding(max_words, embedding_dim, input_length=max_len))\n",
    "model.add(Bidirectional(LSTM(embedding_dim)))\n",
    "model.add(Dense(5, activation='sigmoid'))\n",
    "model.summary()\n",
    "\n",
    "model.layers[0].set_weights([embedding_mat])\n",
    "model.layers[0].trainable = False"
   ]
  },
  {
   "cell_type": "code",
   "execution_count": 9,
   "metadata": {},
   "outputs": [
    {
     "name": "stdout",
     "output_type": "stream",
     "text": [
      "Train on 1072 samples, validate on 120 samples\n",
      "Epoch 1/50\n",
      "1072/1072 [==============================] - 8s 7ms/sample - loss: 1.6776 - acc: 0.2416 - val_loss: 1.5946 - val_acc: 0.2917\n",
      "Epoch 2/50\n",
      "1072/1072 [==============================] - 2s 2ms/sample - loss: 1.5985 - acc: 0.2229 - val_loss: 1.5750 - val_acc: 0.2917\n",
      "Epoch 3/50\n",
      "1072/1072 [==============================] - 3s 2ms/sample - loss: 1.5371 - acc: 0.3116 - val_loss: 2.1031 - val_acc: 0.1917\n",
      "Epoch 4/50\n",
      "1072/1072 [==============================] - 3s 2ms/sample - loss: 1.6893 - acc: 0.2799 - val_loss: 1.5291 - val_acc: 0.2917\n",
      "Epoch 5/50\n",
      "1072/1072 [==============================] - 3s 3ms/sample - loss: 1.3638 - acc: 0.4356 - val_loss: 1.4275 - val_acc: 0.4500\n",
      "Epoch 6/50\n",
      "1072/1072 [==============================] - 3s 3ms/sample - loss: 1.4050 - acc: 0.5056 - val_loss: 1.0430 - val_acc: 0.6083\n",
      "Epoch 7/50\n",
      "1072/1072 [==============================] - 3s 2ms/sample - loss: 1.0649 - acc: 0.6110 - val_loss: 1.2706 - val_acc: 0.4500\n",
      "Epoch 8/50\n",
      "1072/1072 [==============================] - 3s 2ms/sample - loss: 1.0045 - acc: 0.6455 - val_loss: 0.6295 - val_acc: 0.8583\n",
      "Epoch 9/50\n",
      "1072/1072 [==============================] - 3s 2ms/sample - loss: 0.7744 - acc: 0.7229 - val_loss: 0.4668 - val_acc: 0.8833\n",
      "Epoch 10/50\n",
      "1072/1072 [==============================] - 3s 2ms/sample - loss: 0.7400 - acc: 0.7892 - val_loss: 0.8344 - val_acc: 0.7417\n",
      "Epoch 11/50\n",
      "1072/1072 [==============================] - 3s 2ms/sample - loss: 0.7651 - acc: 0.7705 - val_loss: 0.4133 - val_acc: 0.9083\n",
      "Epoch 12/50\n",
      "1072/1072 [==============================] - 3s 2ms/sample - loss: 0.4307 - acc: 0.8778 - val_loss: 1.4377 - val_acc: 0.6833\n",
      "Epoch 13/50\n",
      "1072/1072 [==============================] - 3s 2ms/sample - loss: 0.6910 - acc: 0.8013 - val_loss: 0.4715 - val_acc: 0.8500\n",
      "Epoch 14/50\n",
      "1072/1072 [==============================] - 3s 2ms/sample - loss: 0.4817 - acc: 0.8787 - val_loss: 0.4704 - val_acc: 0.8500\n",
      "Epoch 15/50\n",
      "1072/1072 [==============================] - 2s 2ms/sample - loss: 0.6522 - acc: 0.7733 - val_loss: 0.3613 - val_acc: 0.9250\n",
      "Epoch 16/50\n",
      "1072/1072 [==============================] - 2s 2ms/sample - loss: 0.3612 - acc: 0.8974 - val_loss: 0.2233 - val_acc: 0.9417\n",
      "Epoch 17/50\n",
      "1072/1072 [==============================] - 2s 2ms/sample - loss: 0.2502 - acc: 0.9384 - val_loss: 0.5631 - val_acc: 0.8583\n",
      "Epoch 18/50\n",
      "1072/1072 [==============================] - 2s 2ms/sample - loss: 0.5144 - acc: 0.8563 - val_loss: 0.2528 - val_acc: 0.9083\n",
      "Epoch 19/50\n",
      "1072/1072 [==============================] - 2s 2ms/sample - loss: 0.6663 - acc: 0.8218 - val_loss: 0.3016 - val_acc: 0.9333\n",
      "Epoch 20/50\n",
      "1072/1072 [==============================] - 2s 2ms/sample - loss: 0.2417 - acc: 0.9440 - val_loss: 0.7301 - val_acc: 0.7000\n",
      "Epoch 21/50\n",
      "1072/1072 [==============================] - 2s 2ms/sample - loss: 0.4309 - acc: 0.8647 - val_loss: 0.3651 - val_acc: 0.8833\n"
     ]
    },
    {
     "data": {
      "image/png": "[encoded data removed]",
      "text/plain": [
       "<Figure size 432x288 with 1 Axes>"
      ]
     },
     "metadata": {
      "needs_background": "light"
     },
     "output_type": "display_data"
    },
    {
     "data": {
      "image/png": "[encoded data removed]",
      "text/plain": [
       "<Figure size 432x288 with 1 Axes>"
      ]
     },
     "metadata": {
      "needs_background": "light"
     },
     "output_type": "display_data"
    }
   ],
   "source": [
    "#Training\n",
    "from tensorflow.keras.metrics import Precision, Recall\n",
    "from tensorflow.keras.callbacks import Callback, EarlyStopping\n",
    "\n",
    "model.compile(optimizer='rmsprop', loss='sparse_categorical_crossentropy', metrics=['acc'])\n",
    "earlystopping = EarlyStopping(monitor = \"val_loss\", \n",
    "                                mode = \"min\", patience = 5, \n",
    "                                restore_best_weights = True)\n",
    "history = model.fit(train_x, train_y.values,\n",
    "                    epochs=50,\n",
    "                    batch_size=128,\n",
    "                    validation_split=0.1, \n",
    "                    callbacks=[earlystopping])\n",
    "accuracy, f1_score = pf.lstm_plot(model, history, test_x, test_y)"
   ]
  },
  {
   "cell_type": "code",
   "execution_count": 11,
   "metadata": {},
   "outputs": [
    {
     "name": "stdout",
     "output_type": "stream",
     "text": [
      "INFO:tensorflow:Assets written to: models/bilstm-fasttext\\assets\n"
     ]
    }
   ],
   "source": [
    "pf.store_results('bilstm', 'fasttext', model, accuracy, f1_score, tf_model=1)"
   ]
  }
 ],
 "metadata": {
  "interpreter": {
   "hash": "7cb1022e853cc79376f316cb56a0ade4081b3989831c5c21d525c392fdd8f794"
  },
  "kernelspec": {
   "display_name": "Python 3.7.11 64-bit ('tf-gpu': conda)",
   "language": "python",
   "name": "python3"
  },
  "language_info": {
   "codemirror_mode": {
    "name": "ipython",
    "version": 3
   },
   "file_extension": ".py",
   "mimetype": "text/x-python",
   "name": "python",
   "nbconvert_exporter": "python",
   "pygments_lexer": "ipython3",
   "version": "3.7.11"
  },
  "orig_nbformat": 4
 },
 "nbformat": 4,
 "nbformat_minor": 2
}
