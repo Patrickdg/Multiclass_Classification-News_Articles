{
 "cells": [
  {
   "cell_type": "markdown",
   "metadata": {},
   "source": [
    "# XGBoost (GloVe Embeddings)"
   ]
  },
  {
   "cell_type": "markdown",
   "metadata": {},
   "source": [
    "### Libraries"
   ]
  },
  {
   "cell_type": "code",
   "execution_count": 1,
   "metadata": {},
   "outputs": [],
   "source": [
    "import process_funcs as pf\n",
    "\n",
    "\n",
    "import pandas as pd\n",
    "import numpy as np\n",
    "\n",
    "import xgboost as xgb\n",
    "from xgboost import XGBClassifier\n",
    "import sklearn\n",
    "from sklearn.pipeline import Pipeline\n",
    "from sklearn.model_selection import GridSearchCV"
   ]
  },
  {
   "cell_type": "markdown",
   "metadata": {},
   "source": [
    "### Parameters"
   ]
  },
  {
   "cell_type": "code",
   "execution_count": 2,
   "metadata": {},
   "outputs": [],
   "source": [
    "grid_params = {\n",
    "    'gamma': [0.5, 1.5],\n",
    "    'max_depth': [3, 5],\n",
    "    'sampling_method': ['uniform', 'gradient_based']\n",
    "    }"
   ]
  },
  {
   "cell_type": "markdown",
   "metadata": {},
   "source": [
    "### Reading Data"
   ]
  },
  {
   "cell_type": "code",
   "execution_count": 3,
   "metadata": {},
   "outputs": [],
   "source": [
    "train_x, test_x, train_y, test_y, label_map  = pf.get_train_test()"
   ]
  },
  {
   "cell_type": "code",
   "execution_count": 4,
   "metadata": {},
   "outputs": [
    {
     "data": {
      "text/plain": [
       "['mps',\n",
       " 'tout',\n",
       " 'lords',\n",
       " 'replacement',\n",
       " 'plan',\n",
       " 'group',\n",
       " 'mps',\n",
       " 'tried',\n",
       " 'raise',\n",
       " 'pressure',\n",
       " 'tony',\n",
       " 'blair',\n",
       " 'reform',\n",
       " 'house',\n",
       " 'lords',\n",
       " 'publishing',\n",
       " 'detailed',\n",
       " 'blueprint',\n",
       " 'change',\n",
       " 'cross',\n",
       " 'party',\n",
       " 'group',\n",
       " 'unveiled',\n",
       " 'draft',\n",
       " 'bill',\n",
       " 'proposing',\n",
       " 'smaller',\n",
       " 'second',\n",
       " 'chamber',\n",
       " '70',\n",
       " 'members',\n",
       " 'would',\n",
       " 'elected',\n",
       " 'mps',\n",
       " 'peers',\n",
       " 'failed',\n",
       " 'agree',\n",
       " 'reform',\n",
       " 'since',\n",
       " '1999',\n",
       " '600',\n",
       " 'hereditaries',\n",
       " 'lost',\n",
       " 'seats',\n",
       " 'group',\n",
       " 'says',\n",
       " 'win',\n",
       " 'support',\n",
       " 'removing',\n",
       " 'last',\n",
       " '92',\n",
       " 'hereditaries',\n",
       " 'government',\n",
       " 'postponed',\n",
       " 'plans',\n",
       " 'remove',\n",
       " 'remaining',\n",
       " 'hereditary',\n",
       " 'peers',\n",
       " 'said',\n",
       " 'unlikely',\n",
       " 'succeed',\n",
       " 'opposition',\n",
       " 'lords',\n",
       " 'tony',\n",
       " 'blair',\n",
       " 'argued',\n",
       " 'needs',\n",
       " 'consensus',\n",
       " 'reforms',\n",
       " 'suggestions',\n",
       " 'proposals',\n",
       " 'changing',\n",
       " 'least',\n",
       " 'powers',\n",
       " 'lords',\n",
       " 'labour',\n",
       " 'manifesto',\n",
       " 'party',\n",
       " 'group',\n",
       " 'including',\n",
       " 'tories',\n",
       " 'ken',\n",
       " 'clarke',\n",
       " 'sir',\n",
       " 'george',\n",
       " 'young',\n",
       " 'labour',\n",
       " 'robin',\n",
       " 'cook',\n",
       " 'tony',\n",
       " 'wright',\n",
       " 'liberal',\n",
       " 'democrat',\n",
       " 'paul',\n",
       " 'tyler',\n",
       " 'confident',\n",
       " 'plan',\n",
       " 'would',\n",
       " 'win',\n",
       " 'support',\n",
       " 'large',\n",
       " 'majority',\n",
       " 'list',\n",
       " 'former',\n",
       " 'conservative',\n",
       " 'leader',\n",
       " 'william',\n",
       " 'hague',\n",
       " 'former',\n",
       " 'labour',\n",
       " 'leader',\n",
       " 'neil',\n",
       " 'kinnock',\n",
       " 'supporters',\n",
       " 'plans',\n",
       " 'group',\n",
       " 'says',\n",
       " 'british',\n",
       " 'public',\n",
       " 'clear',\n",
       " 'majority',\n",
       " 'mps',\n",
       " 'support',\n",
       " 'replacing',\n",
       " 'lords',\n",
       " 'largely',\n",
       " 'elected',\n",
       " 'second',\n",
       " 'chamber',\n",
       " 'plan',\n",
       " 'would',\n",
       " 'see',\n",
       " 'house',\n",
       " 'lords',\n",
       " 'renamed',\n",
       " 'second',\n",
       " 'chamber',\n",
       " 'parliament',\n",
       " 'members',\n",
       " 'would',\n",
       " 'known',\n",
       " 'mscps',\n",
       " 'would',\n",
       " '385',\n",
       " 'mscps',\n",
       " 'including',\n",
       " '270',\n",
       " 'elected',\n",
       " 'members',\n",
       " '87',\n",
       " 'appointed',\n",
       " 'members',\n",
       " '16',\n",
       " 'bishops',\n",
       " 'would',\n",
       " 'serve',\n",
       " '12',\n",
       " '14',\n",
       " 'years',\n",
       " 'mr',\n",
       " 'cook',\n",
       " 'said',\n",
       " 'holding',\n",
       " 'elections',\n",
       " 'mscps',\n",
       " 'day',\n",
       " 'mps',\n",
       " 'might',\n",
       " 'help',\n",
       " 'motivate',\n",
       " 'electorate',\n",
       " 'increase',\n",
       " 'voter',\n",
       " 'turnout',\n",
       " 'added',\n",
       " 'last',\n",
       " 'year',\n",
       " 'seen',\n",
       " 'many',\n",
       " 'statements',\n",
       " 'senior',\n",
       " 'figures',\n",
       " 'government',\n",
       " 'insisting',\n",
       " 'public',\n",
       " 'must',\n",
       " 'right',\n",
       " 'choice',\n",
       " 'could',\n",
       " 'important',\n",
       " 'choice',\n",
       " 'people',\n",
       " 'sit',\n",
       " 'parliament',\n",
       " 'group',\n",
       " 'believes',\n",
       " 'pressure',\n",
       " 'growing',\n",
       " 'change']"
      ]
     },
     "execution_count": 4,
     "metadata": {},
     "output_type": "execute_result"
    }
   ],
   "source": [
    "#Sample instance\n",
    "train_x[0][0:200]"
   ]
  },
  {
   "cell_type": "markdown",
   "metadata": {},
   "source": [
    "### Embeddings: GloVe"
   ]
  },
  {
   "cell_type": "code",
   "execution_count": 5,
   "metadata": {},
   "outputs": [
    {
     "data": {
      "text/plain": [
       "array([-5.8342e-01,  4.8631e-01,  7.4230e-01,  1.7875e-01, -1.5873e+00,\n",
       "       -3.7499e-01,  3.7902e-01,  7.0767e-01, -1.5402e+00,  7.4851e-01,\n",
       "       -6.9018e-03, -4.4981e-01, -1.1125e-01,  1.7395e-01,  2.6005e-01,\n",
       "        2.7065e-01,  7.8731e-01,  8.4877e-01, -9.9277e-02,  1.7688e-02,\n",
       "        4.4389e-01, -8.7300e-01,  4.9640e-01, -1.8430e-01,  2.4894e-01,\n",
       "        2.4073e-01,  8.4460e-02,  7.0786e-02, -2.3216e-01,  2.6685e-01,\n",
       "       -2.3519e-01,  4.5211e-01, -3.9982e-01,  2.4936e-01,  7.3548e-01,\n",
       "       -7.2352e-02, -8.1008e-01, -1.5256e-01, -1.0313e+00,  2.3067e-01,\n",
       "       -1.1634e+00,  2.0387e-01,  4.2369e-01, -1.0589e+00,  2.9905e-01,\n",
       "        2.0036e-01,  6.3371e-01, -5.7507e-01, -4.3730e-01, -5.5908e-01,\n",
       "        5.0811e-01,  3.2673e-01, -4.3710e-01,  1.0702e+00, -1.0418e-01,\n",
       "       -2.4432e+00, -1.0739e+00,  1.0881e-01,  1.5446e+00, -1.5633e-01,\n",
       "       -3.7779e-01,  1.5111e-01,  5.8397e-01,  5.4980e-01,  2.3775e-01,\n",
       "        8.8690e-01, -1.0220e-01, -4.1313e-02, -1.9496e-01, -1.3760e-01,\n",
       "       -1.3191e-04,  6.9490e-01,  6.6230e-02, -2.5647e-01, -1.0539e-01,\n",
       "        5.6950e-01,  1.7414e-01, -5.9899e-01, -8.6757e-01, -3.1254e-01,\n",
       "        5.4560e-01, -9.2359e-02, -1.2294e-01, -1.9419e-01, -1.9168e+00,\n",
       "       -4.4395e-02,  6.8561e-01,  2.0030e-01, -3.7791e-01,  6.7436e-01,\n",
       "       -7.7218e-01,  4.9596e-01,  5.8190e-03,  5.3833e-01,  3.3367e-01,\n",
       "        9.7822e-01,  3.1984e-01, -1.2619e-01, -1.7724e-02,  1.8389e-01],\n",
       "      dtype=float32)"
      ]
     },
     "execution_count": 5,
     "metadata": {},
     "output_type": "execute_result"
    }
   ],
   "source": [
    "embeddings_index = pf.get_glove_embeddings()\n",
    "embeddings_index['test']"
   ]
  },
  {
   "cell_type": "code",
   "execution_count": 6,
   "metadata": {},
   "outputs": [],
   "source": [
    "#Build doc vectors using embeddings\n",
    "train_x = pf.create_doc_vecs(train_x, embeddings_index)\n",
    "test_x = pf.create_doc_vecs(test_x, embeddings_index)"
   ]
  },
  {
   "cell_type": "code",
   "execution_count": 7,
   "metadata": {},
   "outputs": [
    {
     "data": {
      "text/plain": [
       "array([-1.94632342e-01,  1.17435557e-01,  2.29419819e-01, -1.86716018e-01,\n",
       "        1.34396525e-01,  1.99695025e-02, -1.60269121e-01,  3.28238387e-02,\n",
       "       -1.67631354e-01, -5.12015900e-02, -3.70541413e-02, -4.74471735e-02,\n",
       "        9.44325364e-02, -1.57141492e-02, -9.20029029e-02, -2.72415726e-01,\n",
       "        6.85131115e-03, -3.74372389e-02, -3.88483376e-01,  9.19017244e-02,\n",
       "        1.90124373e-01, -1.48356169e-01,  1.83016901e-01, -2.05767882e-01,\n",
       "       -1.28358913e-01, -3.46939932e-01, -2.77133482e-02, -3.44619876e-01,\n",
       "        1.31586809e-01,  8.55594383e-03,  1.43579483e-01,  4.21037387e-01,\n",
       "       -2.95240892e-02, -1.02253168e-01, -3.60065740e-04,  2.48176318e-01,\n",
       "        1.16891988e-01,  1.32472380e-01, -2.46243883e-01,  3.98082501e-03,\n",
       "       -5.55756161e-01, -2.30402363e-01,  4.50221278e-01, -1.99466872e-01,\n",
       "       -5.48977220e-02, -2.35516431e-01,  3.43716664e-03, -3.00909484e-01,\n",
       "       -1.90913338e-01, -4.34730730e-01,  7.85542536e-02, -1.78140641e-01,\n",
       "        9.04847001e-02,  7.83882519e-01, -1.30381973e-01, -1.83690333e+00,\n",
       "        2.55119372e-02, -1.19594708e-01,  1.14475320e+00,  4.15995032e-01,\n",
       "       -8.81982829e-02,  1.20888335e-01, -1.33203157e-01,  6.87133226e-02,\n",
       "        6.92099451e-01,  4.68824723e-02,  1.22413049e-01,  4.78459146e-01,\n",
       "        1.75936326e-01, -1.97879384e-01,  1.80603097e-01, -1.53708463e-01,\n",
       "       -3.44284080e-01, -4.21418243e-01, -7.99201190e-02, -4.29769059e-02,\n",
       "       -2.59574595e-01,  6.53873635e-02, -7.19050860e-01, -1.16270752e-01,\n",
       "        4.20814587e-01, -4.27882675e-02, -7.01886141e-02, -6.65227667e-02,\n",
       "       -1.00082948e+00, -2.55081897e-01,  1.58336749e-01,  3.65476096e-02,\n",
       "       -3.24715650e-03, -2.93184410e-01,  6.31134336e-02, -2.57030384e-01,\n",
       "       -1.64244857e-01,  2.53381567e-01, -4.40242719e-01,  1.23266313e-01,\n",
       "       -3.87090240e-02, -1.03222183e-01,  4.26224885e-01, -4.79931984e-02])"
      ]
     },
     "execution_count": 7,
     "metadata": {},
     "output_type": "execute_result"
    }
   ],
   "source": [
    "train_x[0]"
   ]
  },
  {
   "cell_type": "markdown",
   "metadata": {},
   "source": [
    "### Modeling"
   ]
  },
  {
   "cell_type": "code",
   "execution_count": 8,
   "metadata": {},
   "outputs": [
    {
     "name": "stdout",
     "output_type": "stream",
     "text": [
      "ACCURACY %:  0.9497\n",
      "WEIGHTED F1:  0.9498\n",
      "               precision    recall  f1-score   support\n",
      "\n",
      "     business       0.94      0.91      0.92        64\n",
      "entertainment       0.95      0.98      0.97        61\n",
      "     politics       0.88      0.91      0.90        47\n",
      "        sport       0.99      0.97      0.98        73\n",
      "         tech       0.98      0.96      0.97        53\n",
      "\n",
      "     accuracy                           0.95       298\n",
      "    macro avg       0.95      0.95      0.95       298\n",
      " weighted avg       0.95      0.95      0.95       298\n",
      "\n"
     ]
    }
   ],
   "source": [
    "pipeline = Pipeline([\n",
    "    (\"XGB\", GridSearchCV(XGBClassifier(use_label_encoder = False,\n",
    "                                        eval_metric = 'mlogloss'),\n",
    "                                        grid_params))])\n",
    "\n",
    "model, y_preds, accuracy, weighted_f1 = pf.run_model(pipeline, train_x, train_y, test_x, test_y, label_map)\n",
    "pf.store_results('xgb', 'glove', model, accuracy, weighted_f1)"
   ]
  }
 ],
 "metadata": {
  "interpreter": {
   "hash": "249f1afd2050a242ce4b3bc9c06a97cd7c004eb82af489bfb33a70fe0b01e428"
  },
  "kernelspec": {
   "display_name": "Python 3.9.4 64-bit",
   "language": "python",
   "name": "python3"
  },
  "language_info": {
   "codemirror_mode": {
    "name": "ipython",
    "version": 3
   },
   "file_extension": ".py",
   "mimetype": "text/x-python",
   "name": "python",
   "nbconvert_exporter": "python",
   "pygments_lexer": "ipython3",
   "version": "3.7.11"
  },
  "orig_nbformat": 4
 },
 "nbformat": 4,
 "nbformat_minor": 2
}
