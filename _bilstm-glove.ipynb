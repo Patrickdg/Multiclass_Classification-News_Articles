{
 "cells": [
  {
   "cell_type": "markdown",
   "metadata": {},
   "source": [
    "# Bi-LSTM (GloVe Embeddings)"
   ]
  },
  {
   "cell_type": "markdown",
   "metadata": {},
   "source": [
    "### Libraries"
   ]
  },
  {
   "cell_type": "code",
   "execution_count": 1,
   "metadata": {},
   "outputs": [],
   "source": [
    "import process_funcs as pf\n",
    "\n",
    "import os\n",
    "import pandas as pd\n",
    "import numpy as np"
   ]
  },
  {
   "cell_type": "markdown",
   "metadata": {},
   "source": [
    "### Parameters"
   ]
  },
  {
   "cell_type": "code",
   "execution_count": 2,
   "metadata": {},
   "outputs": [],
   "source": [
    "max_len = 500 # maximum length of input vectors\n",
    "max_words = 15000 # top n words in vocab "
   ]
  },
  {
   "cell_type": "markdown",
   "metadata": {},
   "source": [
    "### Reading Data"
   ]
  },
  {
   "cell_type": "code",
   "execution_count": 3,
   "metadata": {},
   "outputs": [],
   "source": [
    "train_x, test_x, train_y, test_y, label_map  = pf.get_train_test()"
   ]
  },
  {
   "cell_type": "code",
   "execution_count": 4,
   "metadata": {},
   "outputs": [
    {
     "data": {
      "text/plain": [
       "['mps',\n",
       " 'tout',\n",
       " 'lords',\n",
       " 'replacement',\n",
       " 'plan',\n",
       " 'group',\n",
       " 'mps',\n",
       " 'tried',\n",
       " 'raise',\n",
       " 'pressure',\n",
       " 'tony',\n",
       " 'blair',\n",
       " 'reform',\n",
       " 'house',\n",
       " 'lords',\n",
       " 'publishing',\n",
       " 'detailed',\n",
       " 'blueprint',\n",
       " 'change',\n",
       " 'cross',\n",
       " 'party',\n",
       " 'group',\n",
       " 'unveiled',\n",
       " 'draft',\n",
       " 'bill',\n",
       " 'proposing',\n",
       " 'smaller',\n",
       " 'second',\n",
       " 'chamber',\n",
       " '70',\n",
       " 'members',\n",
       " 'would',\n",
       " 'elected',\n",
       " 'mps',\n",
       " 'peers',\n",
       " 'failed',\n",
       " 'agree',\n",
       " 'reform',\n",
       " 'since',\n",
       " '1999',\n",
       " '600',\n",
       " 'hereditaries',\n",
       " 'lost',\n",
       " 'seats',\n",
       " 'group',\n",
       " 'says',\n",
       " 'win',\n",
       " 'support',\n",
       " 'removing',\n",
       " 'last',\n",
       " '92',\n",
       " 'hereditaries',\n",
       " 'government',\n",
       " 'postponed',\n",
       " 'plans',\n",
       " 'remove',\n",
       " 'remaining',\n",
       " 'hereditary',\n",
       " 'peers',\n",
       " 'said',\n",
       " 'unlikely',\n",
       " 'succeed',\n",
       " 'opposition',\n",
       " 'lords',\n",
       " 'tony',\n",
       " 'blair',\n",
       " 'argued',\n",
       " 'needs',\n",
       " 'consensus',\n",
       " 'reforms',\n",
       " 'suggestions',\n",
       " 'proposals',\n",
       " 'changing',\n",
       " 'least',\n",
       " 'powers',\n",
       " 'lords',\n",
       " 'labour',\n",
       " 'manifesto',\n",
       " 'party',\n",
       " 'group',\n",
       " 'including',\n",
       " 'tories',\n",
       " 'ken',\n",
       " 'clarke',\n",
       " 'sir',\n",
       " 'george',\n",
       " 'young',\n",
       " 'labour',\n",
       " 'robin',\n",
       " 'cook',\n",
       " 'tony',\n",
       " 'wright',\n",
       " 'liberal',\n",
       " 'democrat',\n",
       " 'paul',\n",
       " 'tyler',\n",
       " 'confident',\n",
       " 'plan',\n",
       " 'would',\n",
       " 'win',\n",
       " 'support',\n",
       " 'large',\n",
       " 'majority',\n",
       " 'list',\n",
       " 'former',\n",
       " 'conservative',\n",
       " 'leader',\n",
       " 'william',\n",
       " 'hague',\n",
       " 'former',\n",
       " 'labour',\n",
       " 'leader',\n",
       " 'neil',\n",
       " 'kinnock',\n",
       " 'supporters',\n",
       " 'plans',\n",
       " 'group',\n",
       " 'says',\n",
       " 'british',\n",
       " 'public',\n",
       " 'clear',\n",
       " 'majority',\n",
       " 'mps',\n",
       " 'support',\n",
       " 'replacing',\n",
       " 'lords',\n",
       " 'largely',\n",
       " 'elected',\n",
       " 'second',\n",
       " 'chamber',\n",
       " 'plan',\n",
       " 'would',\n",
       " 'see',\n",
       " 'house',\n",
       " 'lords',\n",
       " 'renamed',\n",
       " 'second',\n",
       " 'chamber',\n",
       " 'parliament',\n",
       " 'members',\n",
       " 'would',\n",
       " 'known',\n",
       " 'mscps',\n",
       " 'would',\n",
       " '385',\n",
       " 'mscps',\n",
       " 'including',\n",
       " '270',\n",
       " 'elected',\n",
       " 'members',\n",
       " '87',\n",
       " 'appointed',\n",
       " 'members',\n",
       " '16',\n",
       " 'bishops',\n",
       " 'would',\n",
       " 'serve',\n",
       " '12',\n",
       " '14',\n",
       " 'years',\n",
       " 'mr',\n",
       " 'cook',\n",
       " 'said',\n",
       " 'holding',\n",
       " 'elections',\n",
       " 'mscps',\n",
       " 'day',\n",
       " 'mps',\n",
       " 'might',\n",
       " 'help',\n",
       " 'motivate',\n",
       " 'electorate',\n",
       " 'increase',\n",
       " 'voter',\n",
       " 'turnout',\n",
       " 'added',\n",
       " 'last',\n",
       " 'year',\n",
       " 'seen',\n",
       " 'many',\n",
       " 'statements',\n",
       " 'senior',\n",
       " 'figures',\n",
       " 'government',\n",
       " 'insisting',\n",
       " 'public',\n",
       " 'must',\n",
       " 'right',\n",
       " 'choice',\n",
       " 'could',\n",
       " 'important',\n",
       " 'choice',\n",
       " 'people',\n",
       " 'sit',\n",
       " 'parliament',\n",
       " 'group',\n",
       " 'believes',\n",
       " 'pressure',\n",
       " 'growing',\n",
       " 'change']"
      ]
     },
     "execution_count": 4,
     "metadata": {},
     "output_type": "execute_result"
    }
   ],
   "source": [
    "#Sample instance\n",
    "train_x[0][0:200]"
   ]
  },
  {
   "cell_type": "markdown",
   "metadata": {},
   "source": [
    "### Data Processing"
   ]
  },
  {
   "cell_type": "code",
   "execution_count": 5,
   "metadata": {},
   "outputs": [
    {
     "data": {
      "text/plain": [
       "[('said', 1), ('mr', 2), ('would', 3), ('year', 4), ('also', 5)]"
      ]
     },
     "execution_count": 5,
     "metadata": {},
     "output_type": "execute_result"
    }
   ],
   "source": [
    "train_x, tokenizer = pf.lstm_build_sequences(train_x, max_words, max_len)\n",
    "test_x, tokenizer = pf.lstm_build_sequences(test_x, max_words, max_len, tokenizer=tokenizer)\n",
    "word_index = tokenizer.word_index\n",
    "\n",
    "list(word_index.items())[:5]"
   ]
  },
  {
   "cell_type": "markdown",
   "metadata": {},
   "source": [
    "### Embeddings: GloVe"
   ]
  },
  {
   "cell_type": "code",
   "execution_count": 6,
   "metadata": {},
   "outputs": [
    {
     "data": {
      "text/plain": [
       "array([-5.8342e-01,  4.8631e-01,  7.4230e-01,  1.7875e-01, -1.5873e+00,\n",
       "       -3.7499e-01,  3.7902e-01,  7.0767e-01, -1.5402e+00,  7.4851e-01,\n",
       "       -6.9018e-03, -4.4981e-01, -1.1125e-01,  1.7395e-01,  2.6005e-01,\n",
       "        2.7065e-01,  7.8731e-01,  8.4877e-01, -9.9277e-02,  1.7688e-02,\n",
       "        4.4389e-01, -8.7300e-01,  4.9640e-01, -1.8430e-01,  2.4894e-01,\n",
       "        2.4073e-01,  8.4460e-02,  7.0786e-02, -2.3216e-01,  2.6685e-01,\n",
       "       -2.3519e-01,  4.5211e-01, -3.9982e-01,  2.4936e-01,  7.3548e-01,\n",
       "       -7.2352e-02, -8.1008e-01, -1.5256e-01, -1.0313e+00,  2.3067e-01,\n",
       "       -1.1634e+00,  2.0387e-01,  4.2369e-01, -1.0589e+00,  2.9905e-01,\n",
       "        2.0036e-01,  6.3371e-01, -5.7507e-01, -4.3730e-01, -5.5908e-01,\n",
       "        5.0811e-01,  3.2673e-01, -4.3710e-01,  1.0702e+00, -1.0418e-01,\n",
       "       -2.4432e+00, -1.0739e+00,  1.0881e-01,  1.5446e+00, -1.5633e-01,\n",
       "       -3.7779e-01,  1.5111e-01,  5.8397e-01,  5.4980e-01,  2.3775e-01,\n",
       "        8.8690e-01, -1.0220e-01, -4.1313e-02, -1.9496e-01, -1.3760e-01,\n",
       "       -1.3191e-04,  6.9490e-01,  6.6230e-02, -2.5647e-01, -1.0539e-01,\n",
       "        5.6950e-01,  1.7414e-01, -5.9899e-01, -8.6757e-01, -3.1254e-01,\n",
       "        5.4560e-01, -9.2359e-02, -1.2294e-01, -1.9419e-01, -1.9168e+00,\n",
       "       -4.4395e-02,  6.8561e-01,  2.0030e-01, -3.7791e-01,  6.7436e-01,\n",
       "       -7.7218e-01,  4.9596e-01,  5.8190e-03,  5.3833e-01,  3.3367e-01,\n",
       "        9.7822e-01,  3.1984e-01, -1.2619e-01, -1.7724e-02,  1.8389e-01],\n",
       "      dtype=float32)"
      ]
     },
     "execution_count": 6,
     "metadata": {},
     "output_type": "execute_result"
    }
   ],
   "source": [
    "embeddings_index = pf.get_glove_embeddings()\n",
    "embeddings_index['test']"
   ]
  },
  {
   "cell_type": "code",
   "execution_count": 7,
   "metadata": {},
   "outputs": [],
   "source": [
    "embedding_dim, embedding_mat = pf.lstm_build_embed_mat(embeddings_index, word_index, max_words, 100)"
   ]
  },
  {
   "cell_type": "markdown",
   "metadata": {},
   "source": [
    "### Modeling"
   ]
  },
  {
   "cell_type": "code",
   "execution_count": 8,
   "metadata": {},
   "outputs": [
    {
     "name": "stdout",
     "output_type": "stream",
     "text": [
      "Model: \"sequential\"\n",
      "_________________________________________________________________\n",
      "Layer (type)                 Output Shape              Param #   \n",
      "=================================================================\n",
      "embedding (Embedding)        (None, 500, 100)          1500000   \n",
      "_________________________________________________________________\n",
      "bidirectional (Bidirectional (None, 200)               160800    \n",
      "_________________________________________________________________\n",
      "dense (Dense)                (None, 5)                 1005      \n",
      "=================================================================\n",
      "Total params: 1,661,805\n",
      "Trainable params: 1,661,805\n",
      "Non-trainable params: 0\n",
      "_________________________________________________________________\n"
     ]
    }
   ],
   "source": [
    "from tensorflow.keras.models import Sequential\n",
    "from tensorflow.keras.layers import LSTM, Bidirectional, Dense, Embedding, Flatten\n",
    "\n",
    "#Architecture\n",
    "model = Sequential()\n",
    "model.add(Embedding(max_words, embedding_dim, input_length=max_len))\n",
    "model.add(Bidirectional(LSTM(embedding_dim)))\n",
    "model.add(Dense(5, activation='sigmoid'))\n",
    "model.summary()\n",
    "\n",
    "model.layers[0].set_weights([embedding_mat])\n",
    "model.layers[0].trainable = False"
   ]
  },
  {
   "cell_type": "code",
   "execution_count": 9,
   "metadata": {},
   "outputs": [
    {
     "name": "stdout",
     "output_type": "stream",
     "text": [
      "Train on 1072 samples, validate on 120 samples\n",
      "Epoch 1/50\n",
      "1072/1072 [==============================] - 5s 4ms/sample - loss: 1.4468 - acc: 0.4664 - val_loss: 1.0417 - val_acc: 0.8000\n",
      "Epoch 2/50\n",
      "1072/1072 [==============================] - 1s 1ms/sample - loss: 1.0292 - acc: 0.7024 - val_loss: 0.5643 - val_acc: 0.9167\n",
      "Epoch 3/50\n",
      "1072/1072 [==============================] - 1s 1ms/sample - loss: 0.5592 - acc: 0.8629 - val_loss: 0.8316 - val_acc: 0.7417\n",
      "Epoch 4/50\n",
      "1072/1072 [==============================] - 1s 1ms/sample - loss: 0.4758 - acc: 0.8750 - val_loss: 0.3280 - val_acc: 0.9333\n",
      "Epoch 5/50\n",
      "1072/1072 [==============================] - 1s 1ms/sample - loss: 0.3120 - acc: 0.9263 - val_loss: 0.3329 - val_acc: 0.9167\n",
      "Epoch 6/50\n",
      "1072/1072 [==============================] - 1s 1ms/sample - loss: 0.3579 - acc: 0.9039 - val_loss: 0.2917 - val_acc: 0.9167\n",
      "Epoch 7/50\n",
      "1072/1072 [==============================] - 1s 1ms/sample - loss: 0.2914 - acc: 0.9263 - val_loss: 0.2716 - val_acc: 0.9250\n",
      "Epoch 8/50\n",
      "1072/1072 [==============================] - 1s 1ms/sample - loss: 0.3209 - acc: 0.9170 - val_loss: 0.2296 - val_acc: 0.9417\n",
      "Epoch 9/50\n",
      "1072/1072 [==============================] - 1s 1ms/sample - loss: 0.2385 - acc: 0.9450 - val_loss: 0.2136 - val_acc: 0.9500\n",
      "Epoch 10/50\n",
      "1072/1072 [==============================] - 1s 1ms/sample - loss: 0.3872 - acc: 0.8993 - val_loss: 0.2037 - val_acc: 0.9417\n",
      "Epoch 11/50\n",
      "1072/1072 [==============================] - 1s 1ms/sample - loss: 0.4295 - acc: 0.8778 - val_loss: 0.3037 - val_acc: 0.9083\n",
      "Epoch 12/50\n",
      "1072/1072 [==============================] - 1s 1ms/sample - loss: 0.2700 - acc: 0.9244 - val_loss: 0.1953 - val_acc: 0.9417\n",
      "Epoch 13/50\n",
      "1072/1072 [==============================] - 1s 998us/sample - loss: 0.1755 - acc: 0.9590 - val_loss: 0.2062 - val_acc: 0.9417\n",
      "Epoch 14/50\n",
      "1072/1072 [==============================] - 1s 1ms/sample - loss: 0.2393 - acc: 0.9394 - val_loss: 0.3474 - val_acc: 0.9000\n",
      "Epoch 15/50\n",
      "1072/1072 [==============================] - 1s 1ms/sample - loss: 0.2393 - acc: 0.9375 - val_loss: 0.2393 - val_acc: 0.9417\n",
      "Epoch 16/50\n",
      "1072/1072 [==============================] - 1s 1ms/sample - loss: 0.2089 - acc: 0.9422 - val_loss: 0.1863 - val_acc: 0.9500\n",
      "Epoch 17/50\n",
      "1072/1072 [==============================] - 1s 1ms/sample - loss: 0.2186 - acc: 0.9328 - val_loss: 0.2008 - val_acc: 0.9417\n",
      "Epoch 18/50\n",
      "1072/1072 [==============================] - 1s 1ms/sample - loss: 0.1973 - acc: 0.9422 - val_loss: 0.1755 - val_acc: 0.9417\n",
      "Epoch 19/50\n",
      "1072/1072 [==============================] - 1s 963us/sample - loss: 0.1787 - acc: 0.9524 - val_loss: 0.4124 - val_acc: 0.8750\n",
      "Epoch 20/50\n",
      "1072/1072 [==============================] - 1s 967us/sample - loss: 0.1517 - acc: 0.9608 - val_loss: 0.2002 - val_acc: 0.9500\n",
      "Epoch 21/50\n",
      "1072/1072 [==============================] - 1s 979us/sample - loss: 0.2233 - acc: 0.9356 - val_loss: 0.2987 - val_acc: 0.9250\n",
      "Epoch 22/50\n",
      "1072/1072 [==============================] - 1s 961us/sample - loss: 0.1728 - acc: 0.9571 - val_loss: 0.3782 - val_acc: 0.8667\n",
      "Epoch 23/50\n",
      "1072/1072 [==============================] - 1s 969us/sample - loss: 0.3734 - acc: 0.8881 - val_loss: 0.2458 - val_acc: 0.9167\n"
     ]
    },
    {
     "data": {
      "image/png": "[encoded data removed]",
      "text/plain": [
       "<Figure size 432x288 with 1 Axes>"
      ]
     },
     "metadata": {
      "needs_background": "light"
     },
     "output_type": "display_data"
    },
    {
     "data": {
      "image/png": "[encoded data removed]",
      "text/plain": [
       "<Figure size 432x288 with 1 Axes>"
      ]
     },
     "metadata": {
      "needs_background": "light"
     },
     "output_type": "display_data"
    }
   ],
   "source": [
    "#Training\n",
    "from tensorflow.keras.metrics import Precision, Recall\n",
    "from tensorflow.keras.callbacks import Callback, EarlyStopping\n",
    "\n",
    "model.compile(optimizer='rmsprop', loss='sparse_categorical_crossentropy', metrics=['acc'])\n",
    "earlystopping = EarlyStopping(monitor = \"val_loss\", \n",
    "                                mode = \"min\", patience = 5, \n",
    "                                restore_best_weights = True)\n",
    "history = model.fit(train_x, train_y.values,\n",
    "                    epochs=50,\n",
    "                    batch_size=128,\n",
    "                    validation_split=0.1, \n",
    "                    callbacks=[earlystopping])\n",
    "accuracy, f1_score = pf.lstm_plot(model, history, test_x, test_y)"
   ]
  },
  {
   "cell_type": "code",
   "execution_count": 10,
   "metadata": {},
   "outputs": [
    {
     "name": "stdout",
     "output_type": "stream",
     "text": [
      "WARNING:tensorflow:From C:\\Users\\deguz\\anaconda3\\envs\\tf-gpu\\lib\\site-packages\\tensorflow_core\\python\\ops\\resource_variable_ops.py:1781: calling BaseResourceVariable.__init__ (from tensorflow.python.ops.resource_variable_ops) with constraint is deprecated and will be removed in a future version.\n",
      "Instructions for updating:\n",
      "If using Keras pass *_constraint arguments to layers.\n",
      "INFO:tensorflow:Assets written to: models/bilstm-glove\\assets\n"
     ]
    }
   ],
   "source": [
    "pf.store_results('bilstm', 'glove', model, accuracy, f1_score, tf_model=1)"
   ]
  }
 ],
 "metadata": {
  "interpreter": {
   "hash": "7cb1022e853cc79376f316cb56a0ade4081b3989831c5c21d525c392fdd8f794"
  },
  "kernelspec": {
   "display_name": "Python 3.7.11 64-bit ('tf-gpu': conda)",
   "language": "python",
   "name": "python3"
  },
  "language_info": {
   "codemirror_mode": {
    "name": "ipython",
    "version": 3
   },
   "file_extension": ".py",
   "mimetype": "text/x-python",
   "name": "python",
   "nbconvert_exporter": "python",
   "pygments_lexer": "ipython3",
   "version": "3.7.11"
  },
  "orig_nbformat": 4
 },
 "nbformat": 4,
 "nbformat_minor": 2
}
