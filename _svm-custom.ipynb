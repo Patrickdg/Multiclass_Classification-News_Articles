{
 "cells": [
  {
   "cell_type": "markdown",
   "metadata": {},
   "source": [
    "# SVM (Custom Embeddings)"
   ]
  },
  {
   "cell_type": "markdown",
   "metadata": {},
   "source": [
    "### Libraries"
   ]
  },
  {
   "cell_type": "code",
   "execution_count": 1,
   "metadata": {},
   "outputs": [],
   "source": [
    "import process_funcs as pf\n",
    "\n",
    "import pandas as pd\n",
    "import numpy as np\n",
    "import gensim\n",
    "\n",
    "import sklearn\n",
    "from sklearn.svm import SVC\n",
    "from sklearn.pipeline import Pipeline\n",
    "from sklearn.preprocessing import Normalizer\n",
    "from sklearn.model_selection import GridSearchCV, train_test_split\n",
    "from sklearn.metrics import accuracy_score, classification_report, f1_score"
   ]
  },
  {
   "cell_type": "markdown",
   "metadata": {},
   "source": [
    "### Parameters"
   ]
  },
  {
   "cell_type": "code",
   "execution_count": 2,
   "metadata": {},
   "outputs": [],
   "source": [
    "grid_params = {\n",
    "        'C': [0.1, 1, 10], \n",
    "        'kernel': ['rbf', 'linear'],\n",
    "        'gamma': [5, 10, 15],\n",
    "        'decision_function_shape': ['ovr', 'ovo']\n",
    "    }"
   ]
  },
  {
   "cell_type": "markdown",
   "metadata": {},
   "source": [
    "### Reading Data"
   ]
  },
  {
   "cell_type": "code",
   "execution_count": 3,
   "metadata": {},
   "outputs": [],
   "source": [
    "train_x, test_x, train_y, test_y, label_map  = pf.get_train_test()"
   ]
  },
  {
   "cell_type": "code",
   "execution_count": 4,
   "metadata": {},
   "outputs": [
    {
     "data": {
      "text/plain": [
       "['mps',\n",
       " 'tout',\n",
       " 'lords',\n",
       " 'replacement',\n",
       " 'plan',\n",
       " 'group',\n",
       " 'mps',\n",
       " 'tried',\n",
       " 'raise',\n",
       " 'pressure',\n",
       " 'tony',\n",
       " 'blair',\n",
       " 'reform',\n",
       " 'house',\n",
       " 'lords',\n",
       " 'publishing',\n",
       " 'detailed',\n",
       " 'blueprint',\n",
       " 'change',\n",
       " 'cross',\n",
       " 'party',\n",
       " 'group',\n",
       " 'unveiled',\n",
       " 'draft',\n",
       " 'bill',\n",
       " 'proposing',\n",
       " 'smaller',\n",
       " 'second',\n",
       " 'chamber',\n",
       " '70',\n",
       " 'members',\n",
       " 'would',\n",
       " 'elected',\n",
       " 'mps',\n",
       " 'peers',\n",
       " 'failed',\n",
       " 'agree',\n",
       " 'reform',\n",
       " 'since',\n",
       " '1999',\n",
       " '600',\n",
       " 'hereditaries',\n",
       " 'lost',\n",
       " 'seats',\n",
       " 'group',\n",
       " 'says',\n",
       " 'win',\n",
       " 'support',\n",
       " 'removing',\n",
       " 'last',\n",
       " '92',\n",
       " 'hereditaries',\n",
       " 'government',\n",
       " 'postponed',\n",
       " 'plans',\n",
       " 'remove',\n",
       " 'remaining',\n",
       " 'hereditary',\n",
       " 'peers',\n",
       " 'said',\n",
       " 'unlikely',\n",
       " 'succeed',\n",
       " 'opposition',\n",
       " 'lords',\n",
       " 'tony',\n",
       " 'blair',\n",
       " 'argued',\n",
       " 'needs',\n",
       " 'consensus',\n",
       " 'reforms',\n",
       " 'suggestions',\n",
       " 'proposals',\n",
       " 'changing',\n",
       " 'least',\n",
       " 'powers',\n",
       " 'lords',\n",
       " 'labour',\n",
       " 'manifesto',\n",
       " 'party',\n",
       " 'group',\n",
       " 'including',\n",
       " 'tories',\n",
       " 'ken',\n",
       " 'clarke',\n",
       " 'sir',\n",
       " 'george',\n",
       " 'young',\n",
       " 'labour',\n",
       " 'robin',\n",
       " 'cook',\n",
       " 'tony',\n",
       " 'wright',\n",
       " 'liberal',\n",
       " 'democrat',\n",
       " 'paul',\n",
       " 'tyler',\n",
       " 'confident',\n",
       " 'plan',\n",
       " 'would',\n",
       " 'win',\n",
       " 'support',\n",
       " 'large',\n",
       " 'majority',\n",
       " 'list',\n",
       " 'former',\n",
       " 'conservative',\n",
       " 'leader',\n",
       " 'william',\n",
       " 'hague',\n",
       " 'former',\n",
       " 'labour',\n",
       " 'leader',\n",
       " 'neil',\n",
       " 'kinnock',\n",
       " 'supporters',\n",
       " 'plans',\n",
       " 'group',\n",
       " 'says',\n",
       " 'british',\n",
       " 'public',\n",
       " 'clear',\n",
       " 'majority',\n",
       " 'mps',\n",
       " 'support',\n",
       " 'replacing',\n",
       " 'lords',\n",
       " 'largely',\n",
       " 'elected',\n",
       " 'second',\n",
       " 'chamber',\n",
       " 'plan',\n",
       " 'would',\n",
       " 'see',\n",
       " 'house',\n",
       " 'lords',\n",
       " 'renamed',\n",
       " 'second',\n",
       " 'chamber',\n",
       " 'parliament',\n",
       " 'members',\n",
       " 'would',\n",
       " 'known',\n",
       " 'mscps',\n",
       " 'would',\n",
       " '385',\n",
       " 'mscps',\n",
       " 'including',\n",
       " '270',\n",
       " 'elected',\n",
       " 'members',\n",
       " '87',\n",
       " 'appointed',\n",
       " 'members',\n",
       " '16',\n",
       " 'bishops',\n",
       " 'would',\n",
       " 'serve',\n",
       " '12',\n",
       " '14',\n",
       " 'years',\n",
       " 'mr',\n",
       " 'cook',\n",
       " 'said',\n",
       " 'holding',\n",
       " 'elections',\n",
       " 'mscps',\n",
       " 'day',\n",
       " 'mps',\n",
       " 'might',\n",
       " 'help',\n",
       " 'motivate',\n",
       " 'electorate',\n",
       " 'increase',\n",
       " 'voter',\n",
       " 'turnout',\n",
       " 'added',\n",
       " 'last',\n",
       " 'year',\n",
       " 'seen',\n",
       " 'many',\n",
       " 'statements',\n",
       " 'senior',\n",
       " 'figures',\n",
       " 'government',\n",
       " 'insisting',\n",
       " 'public',\n",
       " 'must',\n",
       " 'right',\n",
       " 'choice',\n",
       " 'could',\n",
       " 'important',\n",
       " 'choice',\n",
       " 'people',\n",
       " 'sit',\n",
       " 'parliament',\n",
       " 'group',\n",
       " 'believes',\n",
       " 'pressure',\n",
       " 'growing',\n",
       " 'change']"
      ]
     },
     "execution_count": 4,
     "metadata": {},
     "output_type": "execute_result"
    }
   ],
   "source": [
    "#Sample instance\n",
    "train_x[0][0:200]"
   ]
  },
  {
   "cell_type": "markdown",
   "metadata": {},
   "source": [
    "### Embeddings: Custom\n",
    "\n",
    "Using custom trained Word2Vec embeddings (on train_x set), *obtain document vectors by taking the average of all found word vectors.* "
   ]
  },
  {
   "cell_type": "code",
   "execution_count": 5,
   "metadata": {},
   "outputs": [
    {
     "data": {
      "text/plain": [
       "array([-2.90044099e-01,  3.59430015e-01,  2.48870715e-01, -2.82393415e-02,\n",
       "        1.41623110e-01, -8.19525063e-01,  2.65341699e-01,  9.85383213e-01,\n",
       "       -3.41951907e-01, -3.67978811e-01, -3.71961445e-01, -7.59894550e-01,\n",
       "       -1.44224748e-01,  3.28498483e-01,  1.09700061e-01, -4.06162053e-01,\n",
       "        3.44611891e-02, -5.55934727e-01,  1.05890691e-01, -1.02582669e+00,\n",
       "        9.64341983e-02,  4.67433631e-01,  2.92174608e-01, -2.41391033e-01,\n",
       "        1.74294729e-02, -5.82534149e-02, -3.85833681e-01, -6.68074787e-02,\n",
       "       -4.87894446e-01,  3.07648517e-02,  2.60165840e-01,  1.24028340e-01,\n",
       "        3.38057876e-02, -3.44380796e-01, -1.49403095e-01,  3.88319135e-01,\n",
       "       -2.96244696e-02, -5.40337443e-01, -1.06616601e-01, -8.14761877e-01,\n",
       "        2.59913713e-01, -4.67677951e-01, -2.61597395e-01, -2.17816103e-02,\n",
       "        3.42463166e-01, -3.88499916e-01, -4.27326769e-01, -5.06307296e-02,\n",
       "        3.58640820e-01,  2.96276063e-01,  7.20875803e-03, -5.05444229e-01,\n",
       "       -3.69120389e-01, -1.87632054e-01, -5.19158304e-01, -1.87505990e-01,\n",
       "        1.15099080e-01, -1.90027878e-01, -2.84871906e-01,  1.68261990e-01,\n",
       "        1.26398683e-01,  2.64058888e-01, -2.17297345e-01, -4.60338853e-02,\n",
       "       -3.97607654e-01,  5.40499091e-01,  5.42693026e-02,  3.08009267e-01,\n",
       "       -6.79301202e-01,  7.13618398e-01, -3.14297080e-01,  2.20382094e-01,\n",
       "        4.63651419e-01, -2.89592117e-01,  3.00237298e-01,  3.21908802e-01,\n",
       "       -6.07669316e-02, -5.25885336e-02, -6.06060088e-01,  8.95399833e-04,\n",
       "       -4.09190238e-01, -3.98296684e-01, -3.33397418e-01,  7.08298743e-01,\n",
       "        1.11598276e-01,  1.72255680e-01, -3.47206779e-02,  5.22850871e-01,\n",
       "        2.87716001e-01,  1.09418243e-01,  4.24114197e-01,  2.62137920e-01,\n",
       "        1.02771655e-01,  3.23464274e-01,  1.02523935e+00,  2.16847599e-01,\n",
       "        5.05091190e-01, -7.62648225e-01,  2.52117336e-01,  2.86297083e-01],\n",
       "      dtype=float32)"
      ]
     },
     "execution_count": 5,
     "metadata": {},
     "output_type": "execute_result"
    }
   ],
   "source": [
    "#Custom embeddings\n",
    "word_vecs = pf.get_custom_embeddings()\n",
    "word_vecs['test']"
   ]
  },
  {
   "cell_type": "code",
   "execution_count": 6,
   "metadata": {},
   "outputs": [],
   "source": [
    "#Build doc vectors using embeddings\n",
    "train_x = pf.create_doc_vecs(train_x, word_vecs)\n",
    "test_x = pf.create_doc_vecs(test_x, word_vecs)"
   ]
  },
  {
   "cell_type": "code",
   "execution_count": 7,
   "metadata": {},
   "outputs": [
    {
     "data": {
      "text/plain": [
       "array([-2.82748525e-01,  2.60588847e-01,  1.23432209e-01,  7.19064145e-02,\n",
       "        1.48467112e-01, -6.84281393e-01,  2.35312086e-01,  8.55405963e-01,\n",
       "       -2.94106046e-01, -3.54220899e-01, -2.58683947e-01, -6.57470230e-01,\n",
       "       -1.96259837e-01,  2.56551376e-01,  1.55546186e-02, -2.75647881e-01,\n",
       "        9.61999502e-02, -4.76763188e-01,  1.43492206e-01, -7.76016112e-01,\n",
       "        1.36625480e-01,  3.94372345e-01,  2.34876551e-01, -2.22466861e-01,\n",
       "        1.19479772e-01, -3.36868835e-02, -2.64772900e-01, -7.55546702e-02,\n",
       "       -4.65506827e-01, -1.02797444e-02,  2.74830315e-01, -5.43003564e-03,\n",
       "       -2.23211568e-02, -3.20921366e-01, -8.63172893e-02,  3.37534658e-01,\n",
       "       -2.14993816e-02, -4.13767237e-01, -9.87016278e-03, -6.99858874e-01,\n",
       "        1.64212585e-01, -4.61797754e-01, -2.63425135e-01, -2.16626038e-03,\n",
       "        2.86316689e-01, -2.87325996e-01, -4.55082103e-01, -3.23940473e-02,\n",
       "        4.01193486e-01,  2.57032726e-01,  1.09849344e-02, -4.21438531e-01,\n",
       "       -2.86246671e-01, -9.58944906e-02, -4.11104742e-01, -1.81114547e-01,\n",
       "        1.30445983e-01, -2.24323349e-01, -2.64675834e-01,  1.90668942e-01,\n",
       "        3.72464490e-02,  2.49270078e-01, -2.76724393e-01, -1.44020507e-01,\n",
       "       -3.27610470e-01,  4.61802609e-01, -1.18050504e-02,  2.30755729e-01,\n",
       "       -5.10107803e-01,  5.37118754e-01, -3.05325443e-01,  2.38119609e-01,\n",
       "        3.73698808e-01, -2.63021865e-01,  2.73097617e-01,  2.27279003e-01,\n",
       "       -9.86346571e-02,  6.21768912e-04, -4.71718327e-01, -4.77542948e-02,\n",
       "       -4.26175001e-01, -2.88197676e-01, -2.41120512e-01,  4.85045138e-01,\n",
       "        1.11047270e-01,  1.09761036e-01, -3.64965982e-02,  3.69972972e-01,\n",
       "        2.32751125e-01,  1.66131348e-01,  2.87071042e-01,  2.88802978e-01,\n",
       "        1.03886770e-01,  3.05015251e-01,  8.58025350e-01,  1.76997774e-01,\n",
       "        3.08975914e-01, -6.13350881e-01,  2.23949314e-01,  3.00613401e-01])"
      ]
     },
     "execution_count": 7,
     "metadata": {},
     "output_type": "execute_result"
    }
   ],
   "source": [
    "del word_vecs\n",
    "train_x[0]"
   ]
  },
  {
   "cell_type": "markdown",
   "metadata": {},
   "source": [
    "### Modeling"
   ]
  },
  {
   "cell_type": "code",
   "execution_count": 8,
   "metadata": {},
   "outputs": [
    {
     "name": "stdout",
     "output_type": "stream",
     "text": [
      "ACCURACY %:  0.8658\n",
      "WEIGHTED F1:  0.8655\n",
      "               precision    recall  f1-score   support\n",
      "\n",
      "     business       0.79      0.89      0.84        64\n",
      "entertainment       0.89      0.79      0.83        61\n",
      "     politics       0.86      0.94      0.90        47\n",
      "        sport       0.94      0.92      0.93        73\n",
      "         tech       0.84      0.79      0.82        53\n",
      "\n",
      "     accuracy                           0.87       298\n",
      "    macro avg       0.87      0.86      0.86       298\n",
      " weighted avg       0.87      0.87      0.87       298\n",
      "\n"
     ]
    }
   ],
   "source": [
    "pipeline = Pipeline([\n",
    "    (\"Normalize\", Normalizer()),\n",
    "    (\"SVC\", GridSearchCV(SVC(), grid_params))])\n",
    "\n",
    "model, y_preds, accuracy, weighted_f1 = pf.run_model(pipeline, train_x, train_y, test_x, test_y, label_map)\n",
    "pf.store_results('svm', 'custom', model, accuracy, weighted_f1)"
   ]
  }
 ],
 "metadata": {
  "interpreter": {
   "hash": "249f1afd2050a242ce4b3bc9c06a97cd7c004eb82af489bfb33a70fe0b01e428"
  },
  "kernelspec": {
   "display_name": "Python 3.9.4 64-bit",
   "language": "python",
   "name": "python3"
  },
  "language_info": {
   "codemirror_mode": {
    "name": "ipython",
    "version": 3
   },
   "file_extension": ".py",
   "mimetype": "text/x-python",
   "name": "python",
   "nbconvert_exporter": "python",
   "pygments_lexer": "ipython3",
   "version": "3.7.11"
  },
  "orig_nbformat": 4
 },
 "nbformat": 4,
 "nbformat_minor": 2
}
